{
 "cells": [
  {
   "cell_type": "markdown",
   "id": "083c38da",
   "metadata": {},
   "source": [
    "[![Open In Colab](https://colab.research.google.com/assets/colab-badge.svg)](https://colab.research.google.com/github/Tiger-Quant/demos2025/blob/master/september23.ipynb)"
   ]
  },
  {
   "cell_type": "markdown",
   "id": "673ac14c",
   "metadata": {},
   "source": [
    "# Basic Strategy Tutorial\n",
    "\n",
    "This tutorial covers the following ideas:\n",
    "- Using `yfinance` to load historical data\n",
    "- Implementing a repeatable strategy using moving averages\n",
    "- How to calculate the profits from using such a strategy\n",
    "- Compartmentalization of code for reusability"
   ]
  },
  {
   "cell_type": "markdown",
   "id": "6893d649",
   "metadata": {},
   "source": [
    "## Setup\n",
    "\n",
    "Certain Python packages are required. This installs them if we are in Colab."
   ]
  },
  {
   "cell_type": "code",
   "execution_count": null,
   "id": "37561a34",
   "metadata": {},
   "outputs": [],
   "source": [
    "# ------------------------------------------------------------------\n",
    "# Setup Cell: Run this first to install required libraries.\n",
    "# ------------------------------------------------------------------\n",
    "# The '%' command runs a command within the correct environment.\n",
    "# The '-q' flag makes the output \"quiet\" to keep the notebook clean.\n",
    "\n",
    "RunningInCOLAB = 'google.colab' in str(get_ipython())  # checks to see if we are in google colab\n",
    "if RunningInCOLAB:                                     # installs packages if in colab \n",
    "    %pip install -q yfinance pandas matplotlib-venn numpy\n",
    "\n",
    "print(\"✅ Setup complete. You can now run the rest of the notebook.\")"
   ]
  },
  {
   "cell_type": "markdown",
   "id": "0b001330",
   "metadata": {},
   "source": [
    "Packages need to be imported to be able to actively use them. Shorter names are given for convenience's sake."
   ]
  },
  {
   "cell_type": "code",
   "execution_count": null,
   "id": "18531933",
   "metadata": {},
   "outputs": [],
   "source": [
    "import yfinance as yf\n",
    "import matplotlib.pyplot as plt\n",
    "import pandas as pd\n",
    "import numpy as np"
   ]
  },
  {
   "cell_type": "markdown",
   "id": "d5b0afae",
   "metadata": {},
   "source": [
    "## Data Loading\n",
    "\n",
    "`yfinance` will be used to download the data wanted. For this example, we use the `SPY`, one of the [largest exchange-traded funds](https://www.ssga.com/us/en/intermediary/capabilities/spdr-core-equity-etfs/spy-sp-500) (ETFs). Feel free to explore this strategy with other tickers."
   ]
  },
  {
   "cell_type": "code",
   "execution_count": null,
   "id": "ed724b75",
   "metadata": {},
   "outputs": [],
   "source": [
    "data_to_use = 'SPY'\n",
    "\n",
    "data = yf.download(data_to_use, start='2022-01-01')\n",
    "data.columns = data.columns.droplevel(1)\n",
    "data"
   ]
  },
  {
   "cell_type": "markdown",
   "id": "344d5516",
   "metadata": {},
   "source": [
    "### Plotting the Data\n",
    "\n",
    "It's always a good idea to plot the data that will be used. Here, a function will be defined for ease of use later on. \n",
    "Functions are pieces of code that can be called again, allowing for easy reusability instead of copy and pasting. This is called _compartmentalization_."
   ]
  },
  {
   "cell_type": "code",
   "execution_count": null,
   "id": "d30b7f0e",
   "metadata": {},
   "outputs": [],
   "source": [
    "# Reusable function to plot data\n",
    "def plot_data(data, data_name='SPY'):\n",
    "    \"\"\"Plots the closing prices of the given data.\"\"\"\n",
    "    plt.figure(figsize=(12, 6))\n",
    "    plt.plot(data['Close'], label=data_name +' Close Price')\n",
    "    plt.title(data_name + ' Closing Prices Since 2022')\n",
    "    plt.xlabel('Date')\n",
    "    plt.ylabel('Price (USD)')\n",
    "    \n",
    "\n",
    "plot_data(data) # calling the function to plot\n",
    "plt.show() # show the plot "
   ]
  },
  {
   "cell_type": "markdown",
   "id": "6cd8f679",
   "metadata": {},
   "source": [
    "Bar some exceptions, `SPY` has mostly went up since 2022."
   ]
  },
  {
   "cell_type": "markdown",
   "id": "df8da225",
   "metadata": {},
   "source": [
    "## Strategy Implementation: Simple Moving Average\n",
    "\n",
    "The simple moving average (SMA) is a simple yet intuitive strategy. The idea is that tickers typically follow a trend (the moving average). If it goes above this trend, it is a sign that it is doing well, and one should buy. If it goes below this trend, is is a sign that it might do bad, and one should sell. Here, we'll describe the steps to programatically do this."
   ]
  },
  {
   "cell_type": "markdown",
   "id": "7a565b59",
   "metadata": {},
   "source": [
    "### Calculate SMA\n",
    "\n",
    "The simple moving average is an average of the last $n$ datapoints. It is simple because all the datapoints are weighed the same. In this example, we use $n=50$."
   ]
  },
  {
   "cell_type": "code",
   "execution_count": null,
   "id": "07fecb2f",
   "metadata": {},
   "outputs": [],
   "source": [
    "data['SMA50'] = data['Close'].rolling(window=50).mean()\n",
    "# take mean of each group of 50 rows, i.e., \n",
    "# mean for Day 1-50, mean for Day 2-51 etc.\n",
    "# or just the 50-day simple moving average\n",
    "data"
   ]
  },
  {
   "cell_type": "markdown",
   "id": "51789c4a",
   "metadata": {},
   "source": [
    "Rolling returns all possible consecutive windows of a desired size. We then calculate the mean, allowing us to get the average of the price over the window, which is the last 50 days.\n",
    "\n",
    "**Note**: Notice that for the first 49 values, the moving average does not have a value. That is because there are not 49 prices before it to be able to get a rolling window (to then average). Moving averages cannot start immediately."
   ]
  },
  {
   "cell_type": "markdown",
   "id": "bb1b85ee",
   "metadata": {},
   "source": [
    "### Calculate Position\n",
    "\n",
    "The position is simple. If the ticker is above the average, the position is 1, and that means we'd like to have some of the ticker. If the ticker is below the average, the position is 0, and that means we'd like to not have any ticker."
   ]
  },
  {
   "cell_type": "code",
   "execution_count": null,
   "id": "fd3fa305",
   "metadata": {},
   "outputs": [],
   "source": [
    "data['Position'] = np.where(data['Close'] > data['SMA50'], 1, 0) # 1 if above SMA, else 0\n",
    "data"
   ]
  },
  {
   "cell_type": "markdown",
   "id": "9f53b5fa",
   "metadata": {},
   "source": [
    "`Numpy`'s (or np) `where` function will evaluate a Boolean(true or false) expression, and set the values accordingly if it is true or false over an array of numbers.\n",
    "\n",
    "**Note**: Notice that for the first 49 values, the moving average does not have a value. It fails the condition set, so it gets set to 0. This makes sense, since there is still not enough data to determine if we want stock right now with this strategy."
   ]
  },
  {
   "cell_type": "markdown",
   "id": "b628b4ea",
   "metadata": {},
   "source": [
    "### Calculate Signal\n",
    "\n",
    "The signal is a sign to either buy or sell. The signal being used is whenever the position changes. If the signal is 1, it means we went from a position of 0 -> 1, or from not wanting any of the ticker to wanting it. Therefore, we should buy. The opposite occurs if the signal is -1. 0s can occur, but that means the position has not changed, so no action will be taken."
   ]
  },
  {
   "cell_type": "code",
   "execution_count": null,
   "id": "c10c2719",
   "metadata": {},
   "outputs": [],
   "source": [
    "data['Signal'] = data['Position'].diff() # difference between current and previous row\n",
    "data[data['Signal'] != 0].head() # show rows that have a signal (buy or sell)"
   ]
  },
  {
   "cell_type": "code",
   "execution_count": null,
   "id": "bb0edf9f",
   "metadata": {},
   "outputs": [],
   "source": [
    "plot_data(data)\n",
    "plt.plot(data['SMA50'], label='50-Day SMA', linestyle='--')\n",
    "plt.legend() # show legend\n",
    "plt.show()"
   ]
  },
  {
   "cell_type": "markdown",
   "id": "a5785505",
   "metadata": {},
   "source": [
    "#### Plot Signals\n",
    "\n",
    "We can plot the signals to get a visual intuition of the strategy."
   ]
  },
  {
   "cell_type": "code",
   "execution_count": null,
   "id": "215fcd1d",
   "metadata": {},
   "outputs": [],
   "source": [
    "plot_data(data)\n",
    "plt.plot(data['SMA50'], label='50-Day SMA', linestyle='--')\n",
    "\n",
    "buy_signal = (data['Signal'] == 1.0) # where signal is 1\n",
    "plt.scatter(data.index[buy_signal], \n",
    "            data['Close'][buy_signal],\n",
    "            label='Buy Signal', marker='^', color='green', s=100)\n",
    "\n",
    "sell_signal = (data['Signal'] == -1.0) # where signal is -1\n",
    "plt.scatter(data.index[sell_signal], \n",
    "            data['Close'][sell_signal],\n",
    "            label='Sell Signal', marker='v', color='red', s=100)\n",
    "\n",
    "plt.legend()\n",
    "plt.show()"
   ]
  },
  {
   "cell_type": "markdown",
   "id": "904b6266",
   "metadata": {},
   "source": [
    "## Calculating Strategy Returns\n",
    "\n",
    "\n",
    "To calculate how our strategy would do, we need to calculate profit and return on investment (ROI).\n",
    "\n",
    "### Calculating Profit \n",
    "\n",
    "Calculating profit is simple. It's the difference of revenue and expenses. Your revenue is how much money you made selling shares at the sell signal and your expenses is how much money you spent buying the shares at the buy signal.\n",
    "This can be expressed mathematically:\n",
    "$$\n",
    "P = SQ - BQ\n",
    "$$\n",
    "\n",
    "where $P$ is the profit, $S$ is the prices of the shares sold at sell signal, $B$ is the price of the shares bought at the buy signal, $Q$ is the quantity of shares. This is assuming that all of the shares bought are all sold at the next signal, which is what we did for simple moving average.\n",
    "\n",
    "Factoring can occur:\n",
    "$$\n",
    "P = Q(S - B)\n",
    "$$\n",
    "\n",
    "### Calculating ROI\n",
    "\n",
    "The return on investment is a measure of the profitability of an investment/trade relative to the cost of investment. It can be expressed mathematically as such:\n",
    "$$\n",
    "ROI = \\frac{P}{BQ}\n",
    "$$\n",
    "\n",
    "A higher ROI is preferred.\n"
   ]
  },
  {
   "cell_type": "code",
   "execution_count": null,
   "id": "9c605471",
   "metadata": {},
   "outputs": [],
   "source": [
    "def calculate_returns(quantity, data):\n",
    "    \"\"\"Calculate the returns of a trading strategy based on buy and sell signals.\"\"\"\n",
    "    \n",
    "    total_profit = 0\n",
    "    total_money_invested = 0\n",
    "    buy_signal = (data['Signal'] == 1.0) # where signal is 1\n",
    "    sell_signal = (data['Signal'] == -1.0) # where signal is -1\n",
    "    \n",
    "    for buy_time, buy_row in data[buy_signal].iterrows(): # iterate over every buy signal\n",
    "        buy_price = buy_row['Close']\n",
    "        sell_trades = data[sell_signal & (data.index > buy_time)] # all sell signals after buy signal\n",
    "        \n",
    "        # check that a sell signal exists, could potentially not have a sell signal, like at the end\n",
    "        if not sell_trades.empty:\n",
    "            sell_price = (sell_trades.iloc[0])['Close'] # first sell signal after buy signal\n",
    "\n",
    "            profit = quantity * (sell_price - buy_price)  # based on formula\n",
    "            money_invested = quantity * buy_price\n",
    "            print(f\"Bought {quantity} share(s) at ${buy_price:.2f}. Sold {quantity} share(s) at ${sell_price:.2f}, Profit: ${profit:.2f}\")\n",
    "            \n",
    "            \n",
    "            total_profit = total_profit + profit\n",
    "            total_money_invested = total_money_invested + money_invested\n",
    "        else:\n",
    "            print(f\"Would buy {quantity} share(s) at ${buy_price:.2f}, but no sell signal found.\")\n",
    "    \n",
    "    roi = total_profit / total_money_invested\n",
    "    print(f\"\"\"\\nTotal Profit: ${total_profit:.2f},\n",
    "Money Invested: ${total_money_invested:.2f}, \n",
    "Return on Investment: {roi*100:.2f}%\"\"\")\n",
    "    return total_profit, roi\n"
   ]
  },
  {
   "cell_type": "markdown",
   "id": "2cbe86e7",
   "metadata": {},
   "source": [
    "With the way this function has been coded, this can calculate the returns of virtually any strategy that is based on buy and sell signals."
   ]
  },
  {
   "cell_type": "code",
   "execution_count": 27,
   "id": "d4a937d4",
   "metadata": {},
   "outputs": [
    {
     "name": "stdout",
     "output_type": "stream",
     "text": [
      "Bought 1 share(s) at $423.03. Sold 1 share(s) at $418.66, Profit: $-4.38\n",
      "Bought 1 share(s) at $421.88. Sold 1 share(s) at $416.63, Profit: $-5.25\n",
      "Bought 1 share(s) at $423.53. Sold 1 share(s) at $416.89, Profit: $-6.64\n",
      "Bought 1 share(s) at $374.92. Sold 1 share(s) at $380.60, Profit: $5.68\n",
      "Bought 1 share(s) at $388.62. Sold 1 share(s) at $375.71, Profit: $-12.90\n",
      "Bought 1 share(s) at $373.34. Sold 1 share(s) at $359.76, Profit: $-13.58\n",
      "Bought 1 share(s) at $364.64. Sold 1 share(s) at $359.05, Profit: $-5.59\n",
      "Bought 1 share(s) at $378.78. Sold 1 share(s) at $369.51, Profit: $-9.27\n",
      "Bought 1 share(s) at $372.37. Sold 1 share(s) at $367.05, Profit: $-5.31\n",
      "Bought 1 share(s) at $376.56. Sold 1 share(s) at $374.69, Profit: $-1.87\n",
      "Bought 1 share(s) at $381.67. Sold 1 share(s) at $382.15, Profit: $0.48\n",
      "Bought 1 share(s) at $383.45. Sold 1 share(s) at $382.04, Profit: $-1.42\n",
      "Bought 1 share(s) at $383.53. Sold 1 share(s) at $383.97, Profit: $0.44\n",
      "Bought 1 share(s) at $384.60. Sold 1 share(s) at $377.51, Profit: $-7.10\n",
      "Bought 1 share(s) at $388.42. Sold 1 share(s) at $430.21, Profit: $41.79\n",
      "Bought 1 share(s) at $436.31. Sold 1 share(s) at $433.45, Profit: $-2.86\n",
      "Bought 1 share(s) at $435.62. Sold 1 share(s) at $433.23, Profit: $-2.39\n",
      "Bought 1 share(s) at $437.47. Sold 1 share(s) at $432.20, Profit: $-5.27\n",
      "Bought 1 share(s) at $423.74. Sold 1 share(s) at $495.27, Profit: $71.53\n",
      "Bought 1 share(s) at $501.98. Sold 1 share(s) at $530.32, Profit: $28.33\n",
      "Bought 1 share(s) at $536.26. Sold 1 share(s) at $533.85, Profit: $-2.40\n",
      "Bought 1 share(s) at $542.53. Sold 1 share(s) at $524.89, Profit: $-17.64\n",
      "Bought 1 share(s) at $535.58. Sold 1 share(s) at $532.24, Profit: $-3.34\n",
      "Bought 1 share(s) at $546.09. Sold 1 share(s) at $579.24, Profit: $33.15\n",
      "Bought 1 share(s) at $586.02. Sold 1 share(s) at $583.11, Profit: $-2.90\n",
      "Bought 1 share(s) at $586.81. Sold 1 share(s) at $583.52, Profit: $-3.29\n",
      "Bought 1 share(s) at $592.39. Sold 1 share(s) at $592.02, Profit: $-0.37\n",
      "Would buy 1 share(s) at $555.28, but no sell signal found.\n",
      "\n",
      "Total Profit: $67.64,\n",
      "Money Invested: $11980.12, \n",
      "Return on Investment: 0.56%\n"
     ]
    }
   ],
   "source": [
    "total_profit, roi = calculate_returns(quantity = 1, data=data)"
   ]
  },
  {
   "cell_type": "markdown",
   "id": "de6a58a2",
   "metadata": {},
   "source": [
    "As shown, a profit technically was made. However, an ROI of less than a percent is not the best. However, it is repeatable and intuitive."
   ]
  }
 ],
 "metadata": {
  "kernelspec": {
   "display_name": "quant",
   "language": "python",
   "name": "python3"
  },
  "language_info": {
   "codemirror_mode": {
    "name": "ipython",
    "version": 3
   },
   "file_extension": ".py",
   "mimetype": "text/x-python",
   "name": "python",
   "nbconvert_exporter": "python",
   "pygments_lexer": "ipython3",
   "version": "3.13.7"
  }
 },
 "nbformat": 4,
 "nbformat_minor": 5
}
