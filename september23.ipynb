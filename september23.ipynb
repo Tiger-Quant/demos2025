{
 "cells": [
  {
   "cell_type": "markdown",
   "id": "083c38da",
   "metadata": {},
   "source": [
    "[![Open In Colab](https://colab.research.google.com/assets/colab-badge.svg)](https://colab.research.google.com/github/Tiger-Quant/demos2025/blob/master/september23.ipynb)"
   ]
  },
  {
   "cell_type": "markdown",
   "id": "673ac14c",
   "metadata": {},
   "source": [
    "# Basic Strategy Tutorial\n",
    "\n",
    "This tutorial covers the following ideas:\n",
    "- Using `yfinance` to load historical data\n",
    "- Implementing a repeatable strategy using moving averages\n",
    "- How to calculate the profits from using such a strategy\n",
    "- Compartmentalization of code for reusability"
   ]
  },
  {
   "cell_type": "markdown",
   "id": "6893d649",
   "metadata": {},
   "source": [
    "## Setup\n",
    "\n",
    "Certain Python packages are required. This installs them if we are in Colab."
   ]
  },
  {
   "cell_type": "code",
   "execution_count": 3,
   "id": "37561a34",
   "metadata": {},
   "outputs": [
    {
     "name": "stdout",
     "output_type": "stream",
     "text": [
      "✅ Setup complete. You can now run the rest of the notebook.\n"
     ]
    }
   ],
   "source": [
    "# ------------------------------------------------------------------\n",
    "# Setup Cell: Run this first to install required libraries.\n",
    "# ------------------------------------------------------------------\n",
    "# The '%' command runs a command within the correct environment.\n",
    "# The '-q' flag makes the output \"quiet\" to keep the notebook clean.\n",
    "\n",
    "RunningInCOLAB = 'google.colab' in str(get_ipython())  # checks to see if we are in google colab\n",
    "if RunningInCOLAB:                                     # installs packages if in colab \n",
    "    %pip install -q yfinance pandas matplotlib-venn numpy\n",
    "\n",
    "print(\"✅ Setup complete. You can now run the rest of the notebook.\")"
   ]
  },
  {
   "cell_type": "markdown",
   "id": "0b001330",
   "metadata": {},
   "source": [
    "Packages need to be imported to be able to actively use them. Shorter names are given for convenience's sake."
   ]
  },
  {
   "cell_type": "code",
   "execution_count": 5,
   "id": "18531933",
   "metadata": {},
   "outputs": [],
   "source": [
    "import yfinance as yf\n",
    "import matplotlib.pyplot as plt\n",
    "import pandas as pd\n",
    "import numpy as np"
   ]
  },
  {
   "cell_type": "markdown",
   "id": "d5b0afae",
   "metadata": {},
   "source": [
    "## Data Loading\n",
    "\n",
    "`yfinance` will be used to download the data wanted. For this example, we use the `SPY`, one of the [largest exchange-traded funds](https://www.ssga.com/us/en/intermediary/capabilities/spdr-core-equity-etfs/spy-sp-500) (ETFs). Feel free to explore this strategy with other tickers."
   ]
  },
  {
   "cell_type": "code",
   "execution_count": 8,
   "id": "ed724b75",
   "metadata": {},
   "outputs": [
    {
     "name": "stderr",
     "output_type": "stream",
     "text": [
      "C:\\Users\\khura\\AppData\\Local\\Temp\\ipykernel_18752\\3428108342.py:3: FutureWarning: YF.download() has changed argument auto_adjust default to True\n",
      "  data = yf.download(data_to_use, start='2022-01-01')\n",
      "[*********************100%***********************]  1 of 1 completed\n"
     ]
    },
    {
     "data": {
      "application/vnd.microsoft.datawrangler.viewer.v0+json": {
       "columns": [
        {
         "name": "Date",
         "rawType": "datetime64[ns]",
         "type": "datetime"
        },
        {
         "name": "Close",
         "rawType": "float64",
         "type": "float"
        },
        {
         "name": "High",
         "rawType": "float64",
         "type": "float"
        },
        {
         "name": "Low",
         "rawType": "float64",
         "type": "float"
        },
        {
         "name": "Open",
         "rawType": "float64",
         "type": "float"
        },
        {
         "name": "Volume",
         "rawType": "int64",
         "type": "integer"
        }
       ],
       "ref": "16dd7993-181f-4013-962a-a34b2fd90b0b",
       "rows": [
        [
         "2022-01-03 00:00:00",
         "453.21038818359375",
         "453.3432221085792",
         "449.5483641714183",
         "451.87269728644833",
         "72668200"
        ],
        [
         "2022-01-04 00:00:00",
         "453.05859375",
         "455.36399196778945",
         "451.1896250439962",
         "454.6429596895945",
         "71178700"
        ],
        [
         "2022-01-05 00:00:00",
         "444.35888671875",
         "453.4665513931178",
         "444.2640094815494",
         "452.6885985815279",
         "104538900"
        ],
        [
         "2022-01-06 00:00:00",
         "443.94146728515625",
         "446.6737696888694",
         "441.5601846155021",
         "443.89404314094736",
         "86858900"
        ],
        [
         "2022-01-07 00:00:00",
         "442.1863098144531",
         "445.13682677779667",
         "440.82015870481285",
         "443.95093372793303",
         "85111600"
        ],
        [
         "2022-01-10 00:00:00",
         "441.6360778808594",
         "441.85426367724875",
         "433.1830285614274",
         "438.97019256239554",
         "119362000"
        ],
        [
         "2022-01-11 00:00:00",
         "445.65863037109375",
         "445.7535076103093",
         "438.35351723852057",
         "441.37045131175284",
         "74303100"
        ],
        [
         "2022-01-12 00:00:00",
         "446.8634338378906",
         "448.9316531762477",
         "444.8901206798532",
         "447.4042079794436",
         "67605400"
        ],
        [
         "2022-01-13 00:00:00",
         "440.7063293457031",
         "448.6281009203371",
         "439.6722340529678",
         "447.9734856231748",
         "91173100"
        ],
        [
         "2022-01-14 00:00:00",
         "440.8865966796875",
         "441.2376164067843",
         "436.31378591285176",
         "437.5376357053383",
         "95890900"
        ],
        [
         "2022-01-18 00:00:00",
         "433.0786437988281",
         "436.3706840511693",
         "431.95916771249045",
         "436.1619657170668",
         "109709100"
        ],
        [
         "2022-01-19 00:00:00",
         "428.581787109375",
         "436.038669386356",
         "428.3066517901506",
         "434.63459041749303",
         "109357600"
        ],
        [
         "2022-01-20 00:00:00",
         "423.83819580078125",
         "435.2132732011315",
         "421.7035882114097",
         "430.47919718993734",
         "122379700"
        ],
        [
         "2022-01-21 00:00:00",
         "415.5179748535156",
         "425.08100399182297",
         "415.4895145774554",
         "422.70921781191396",
         "202271200"
        ],
        [
         "2022-01-24 00:00:00",
         "417.2826232910156",
         "417.79493727814895",
         "399.18116158784653",
         "409.87316463268377",
         "251783900"
        ],
        [
         "2022-01-25 00:00:00",
         "412.18804931640625",
         "417.1688011584923",
         "405.24345122798996",
         "410.85035820452066",
         "167997300"
        ],
        [
         "2022-01-26 00:00:00",
         "411.1538391113281",
         "421.2671377897068",
         "406.86563162091994",
         "418.1173991265228",
         "186391100"
        ],
        [
         "2022-01-27 00:00:00",
         "409.1236572265625",
         "418.9428587043433",
         "407.4254790114483",
         "415.7836519614338",
         "149878300"
        ],
        [
         "2022-01-28 00:00:00",
         "419.284423828125",
         "419.3318479765455",
         "405.8790820647147",
         "410.48982106609395",
         "164457400"
        ],
        [
         "2022-01-31 00:00:00",
         "426.83612060546875",
         "427.1871403186954",
         "417.25409889395814",
         "418.6107536054704",
         "152251400"
        ],
        [
         "2022-02-01 00:00:00",
         "429.72027587890625",
         "430.3653948376376",
         "424.0184920508514",
         "427.5666752763449",
         "123155400"
        ],
        [
         "2022-02-02 00:00:00",
         "433.8945617675781",
         "434.6250614750109",
         "429.815072239759",
         "432.13943423540405",
         "117361000"
        ],
        [
         "2022-02-03 00:00:00",
         "423.6959228515625",
         "429.7392298888471",
         "422.85155300680765",
         "427.8228369251189",
         "118024400"
        ],
        [
         "2022-02-04 00:00:00",
         "425.6882019042969",
         "429.558944272229",
         "421.06793803246376",
         "423.45871706931956",
         "118454400"
        ],
        [
         "2022-02-07 00:00:00",
         "424.32208251953125",
         "427.86076929165415",
         "422.9843915183171",
         "426.4566902752509",
         "84472900"
        ],
        [
         "2022-02-08 00:00:00",
         "427.81329345703125",
         "428.7430440345254",
         "422.38664568225283",
         "423.81921375669026",
         "81012000"
        ],
        [
         "2022-02-09 00:00:00",
         "434.0748291015625",
         "434.39738854884314",
         "431.67458263733965",
         "431.873804570446",
         "92589900"
        ],
        [
         "2022-02-10 00:00:00",
         "426.2764587402344",
         "434.2361593230949",
         "424.26518838420685",
         "428.19285184404936",
         "140103700"
        ],
        [
         "2022-02-11 00:00:00",
         "417.8707275390625",
         "428.44888708129014",
         "416.42869210493336",
         "426.3617328176136",
         "153214600"
        ],
        [
         "2022-02-14 00:00:00",
         "416.5046081542969",
         "418.95230765301676",
         "413.01334592070134",
         "417.3584743227841",
         "123006300"
        ],
        [
         "2022-02-15 00:00:00",
         "423.2215576171875",
         "423.3923192839922",
         "420.4512984505421",
         "420.97310881351615",
         "88482700"
        ],
        [
         "2022-02-16 00:00:00",
         "423.6959228515625",
         "425.08103798470324",
         "419.2749095843763",
         "421.1628422697683",
         "84863600"
        ],
        [
         "2022-02-17 00:00:00",
         "414.6451721191406",
         "423.66745660673814",
         "414.0380098723644",
         "420.48925712577056",
         "102259100"
        ],
        [
         "2022-02-18 00:00:00",
         "411.9602966308594",
         "416.16309480374946",
         "409.6738912733188",
         "414.90128833944823",
         "132642900"
        ],
        [
         "2022-02-22 00:00:00",
         "407.5392761230469",
         "413.16514590282145",
         "404.0195246428283",
         "409.7403006112362",
         "124391800"
        ],
        [
         "2022-02-23 00:00:00",
         "400.3100891113281",
         "411.0400476361501",
         "399.7408546290032",
         "410.47081315382513",
         "132578000"
        ],
        [
         "2022-02-24 00:00:00",
         "406.33441162109375",
         "406.77084113993465",
         "389.5801389116673",
         "389.94062610412374",
         "213942900"
        ],
        [
         "2022-02-25 00:00:00",
         "415.29974365234375",
         "415.3851244771424",
         "405.916943999085",
         "407.57719425925995",
         "121804500"
        ],
        [
         "2022-02-28 00:00:00",
         "414.2371826171875",
         "415.72667120798485",
         "408.6113130445834",
         "409.8730904864747",
         "145615000"
        ],
        [
         "2022-03-01 00:00:00",
         "407.92828369140625",
         "414.7495434726037",
         "405.205448672507",
         "412.7287768929972",
         "137785900"
        ],
        [
         "2022-03-02 00:00:00",
         "415.4325866699219",
         "417.1687213837904",
         "409.43670436467914",
         "410.19566434782513",
         "117726500"
        ],
        [
         "2022-03-03 00:00:00",
         "413.3643493652344",
         "418.4874014121752",
         "411.5523013595497",
         "417.88023924228025",
         "105501700"
        ],
        [
         "2022-03-04 00:00:00",
         "410.00592041015625",
         "411.1443603337347",
         "405.9359274736328",
         "409.60744761780074",
         "113978200"
        ],
        [
         "2022-03-07 00:00:00",
         "397.9193115234375",
         "410.12926237523544",
         "397.85289456055654",
         "409.4177265078582",
         "137896600"
        ],
        [
         "2022-03-08 00:00:00",
         "394.9023742675781",
         "405.30027612358464",
         "393.83032234888356",
         "398.09953720583036",
         "164772700"
        ],
        [
         "2022-03-09 00:00:00",
         "405.4900817871094",
         "407.4823880957403",
         "401.1354855574779",
         "403.33651022134575",
         "116990800"
        ],
        [
         "2022-03-10 00:00:00",
         "403.65899658203125",
         "404.56025785314716",
         "398.87746809778616",
         "400.8507812288038",
         "93972700"
        ],
        [
         "2022-03-11 00:00:00",
         "398.5264892578125",
         "406.78028766963047",
         "398.01417534388236",
         "406.16362906252124",
         "95636300"
        ],
        [
         "2022-03-14 00:00:00",
         "395.61395263671875",
         "402.7767356418395",
         "394.4660161806034",
         "399.3044659961506",
         "95729200"
        ],
        [
         "2022-03-15 00:00:00",
         "404.3136901855469",
         "404.9493127170051",
         "396.96115246536465",
         "398.24189393851697",
         "106219100"
        ]
       ],
       "shape": {
        "columns": 5,
        "rows": 938
       }
      },
      "text/html": [
       "<div>\n",
       "<style scoped>\n",
       "    .dataframe tbody tr th:only-of-type {\n",
       "        vertical-align: middle;\n",
       "    }\n",
       "\n",
       "    .dataframe tbody tr th {\n",
       "        vertical-align: top;\n",
       "    }\n",
       "\n",
       "    .dataframe thead th {\n",
       "        text-align: right;\n",
       "    }\n",
       "</style>\n",
       "<table border=\"1\" class=\"dataframe\">\n",
       "  <thead>\n",
       "    <tr style=\"text-align: right;\">\n",
       "      <th>Price</th>\n",
       "      <th>Close</th>\n",
       "      <th>High</th>\n",
       "      <th>Low</th>\n",
       "      <th>Open</th>\n",
       "      <th>Volume</th>\n",
       "    </tr>\n",
       "    <tr>\n",
       "      <th>Date</th>\n",
       "      <th></th>\n",
       "      <th></th>\n",
       "      <th></th>\n",
       "      <th></th>\n",
       "      <th></th>\n",
       "    </tr>\n",
       "  </thead>\n",
       "  <tbody>\n",
       "    <tr>\n",
       "      <th>2022-01-03</th>\n",
       "      <td>453.210388</td>\n",
       "      <td>453.343222</td>\n",
       "      <td>449.548364</td>\n",
       "      <td>451.872697</td>\n",
       "      <td>72668200</td>\n",
       "    </tr>\n",
       "    <tr>\n",
       "      <th>2022-01-04</th>\n",
       "      <td>453.058594</td>\n",
       "      <td>455.363992</td>\n",
       "      <td>451.189625</td>\n",
       "      <td>454.642960</td>\n",
       "      <td>71178700</td>\n",
       "    </tr>\n",
       "    <tr>\n",
       "      <th>2022-01-05</th>\n",
       "      <td>444.358887</td>\n",
       "      <td>453.466551</td>\n",
       "      <td>444.264009</td>\n",
       "      <td>452.688599</td>\n",
       "      <td>104538900</td>\n",
       "    </tr>\n",
       "    <tr>\n",
       "      <th>2022-01-06</th>\n",
       "      <td>443.941467</td>\n",
       "      <td>446.673770</td>\n",
       "      <td>441.560185</td>\n",
       "      <td>443.894043</td>\n",
       "      <td>86858900</td>\n",
       "    </tr>\n",
       "    <tr>\n",
       "      <th>2022-01-07</th>\n",
       "      <td>442.186310</td>\n",
       "      <td>445.136827</td>\n",
       "      <td>440.820159</td>\n",
       "      <td>443.950934</td>\n",
       "      <td>85111600</td>\n",
       "    </tr>\n",
       "    <tr>\n",
       "      <th>...</th>\n",
       "      <td>...</td>\n",
       "      <td>...</td>\n",
       "      <td>...</td>\n",
       "      <td>...</td>\n",
       "      <td>...</td>\n",
       "    </tr>\n",
       "    <tr>\n",
       "      <th>2025-09-23</th>\n",
       "      <td>663.210022</td>\n",
       "      <td>667.340027</td>\n",
       "      <td>661.979980</td>\n",
       "      <td>666.719971</td>\n",
       "      <td>81708900</td>\n",
       "    </tr>\n",
       "    <tr>\n",
       "      <th>2025-09-24</th>\n",
       "      <td>661.099976</td>\n",
       "      <td>664.609985</td>\n",
       "      <td>659.669983</td>\n",
       "      <td>664.510010</td>\n",
       "      <td>68082200</td>\n",
       "    </tr>\n",
       "    <tr>\n",
       "      <th>2025-09-25</th>\n",
       "      <td>658.049988</td>\n",
       "      <td>659.409973</td>\n",
       "      <td>654.409973</td>\n",
       "      <td>657.940002</td>\n",
       "      <td>89622100</td>\n",
       "    </tr>\n",
       "    <tr>\n",
       "      <th>2025-09-26</th>\n",
       "      <td>661.820007</td>\n",
       "      <td>662.369995</td>\n",
       "      <td>657.880005</td>\n",
       "      <td>659.510010</td>\n",
       "      <td>69142300</td>\n",
       "    </tr>\n",
       "    <tr>\n",
       "      <th>2025-09-29</th>\n",
       "      <td>662.710022</td>\n",
       "      <td>665.200012</td>\n",
       "      <td>662.419983</td>\n",
       "      <td>664.359985</td>\n",
       "      <td>36247948</td>\n",
       "    </tr>\n",
       "  </tbody>\n",
       "</table>\n",
       "<p>938 rows × 5 columns</p>\n",
       "</div>"
      ],
      "text/plain": [
       "Price            Close        High         Low        Open     Volume\n",
       "Date                                                                 \n",
       "2022-01-03  453.210388  453.343222  449.548364  451.872697   72668200\n",
       "2022-01-04  453.058594  455.363992  451.189625  454.642960   71178700\n",
       "2022-01-05  444.358887  453.466551  444.264009  452.688599  104538900\n",
       "2022-01-06  443.941467  446.673770  441.560185  443.894043   86858900\n",
       "2022-01-07  442.186310  445.136827  440.820159  443.950934   85111600\n",
       "...                ...         ...         ...         ...        ...\n",
       "2025-09-23  663.210022  667.340027  661.979980  666.719971   81708900\n",
       "2025-09-24  661.099976  664.609985  659.669983  664.510010   68082200\n",
       "2025-09-25  658.049988  659.409973  654.409973  657.940002   89622100\n",
       "2025-09-26  661.820007  662.369995  657.880005  659.510010   69142300\n",
       "2025-09-29  662.710022  665.200012  662.419983  664.359985   36247948\n",
       "\n",
       "[938 rows x 5 columns]"
      ]
     },
     "execution_count": 8,
     "metadata": {},
     "output_type": "execute_result"
    }
   ],
   "source": [
    "data_to_use = 'SPY'\n",
    "\n",
    "data = yf.download(data_to_use, start='2022-01-01')\n",
    "data.columns = data.columns.droplevel(1)\n",
    "data"
   ]
  },
  {
   "cell_type": "markdown",
   "id": "344d5516",
   "metadata": {},
   "source": [
    "### Plotting the Data\n",
    "\n",
    "It's always a good idea to plot the data that will be used. Here, a function will be defined for ease of use later on. \n",
    "Functions are pieces of code that can be called again, allowing for easy reusability instead of copy and pasting. This is called _compartmentalization_."
   ]
  },
  {
   "cell_type": "code",
   "execution_count": null,
   "id": "d30b7f0e",
   "metadata": {},
   "outputs": [
    {
     "data": {
      "image/png": "[encoded data removed]",
      "text/plain": [
       "<Figure size 1200x600 with 1 Axes>"
      ]
     },
     "metadata": {},
     "output_type": "display_data"
    }
   ],
   "source": [
    "# Reusable function to plot data\n",
    "def plot_data(data, data_name='SPY'):\n",
    "    \"\"\"Plots the closing prices of the given data.\"\"\"\n",
    "    plt.figure(figsize=(12, 6))\n",
    "    plt.plot(data['Close'], label=data_name +' Close Price')\n",
    "    plt.title(data_name + ' Closing Prices Since 2022')\n",
    "    plt.xlabel('Date')\n",
    "    plt.ylabel('Price (USD)')\n",
    "    \n",
    "\n",
    "plot_data(data) # calling the function to plot\n",
    "plt.show() # show the plot "
   ]
  },
  {
   "cell_type": "markdown",
   "id": "6cd8f679",
   "metadata": {},
   "source": [
    "Bar some exceptions, `SPY` has mostly went up since 2022."
   ]
  },
  {
   "cell_type": "markdown",
   "id": "df8da225",
   "metadata": {},
   "source": [
    "## Strategy Implementation: Simple Moving Average\n",
    "\n",
    "The simple moving average (SMA) is a simple yet intuitive strategy. The idea is that tickers typically follow a trend (the moving average). If it goes above this trend, it is a sign that it is doing well, and one should buy. If it goes below this trend, is is a sign that it might do bad, and one should sell. Here, we'll describe the steps to programatically do this."
   ]
  },
  {
   "cell_type": "markdown",
   "id": "7a565b59",
   "metadata": {},
   "source": [
    "### Calculate SMA\n",
    "\n",
    "The simple moving average is an average of the last $n$ datapoints. It is simple because all the datapoints are weighed the same. In this example, we use $n=50$."
   ]
  },
  {
   "cell_type": "code",
   "execution_count": 10,
   "id": "07fecb2f",
   "metadata": {},
   "outputs": [
    {
     "data": {
      "application/vnd.microsoft.datawrangler.viewer.v0+json": {
       "columns": [
        {
         "name": "Date",
         "rawType": "datetime64[ns]",
         "type": "datetime"
        },
        {
         "name": "Close",
         "rawType": "float64",
         "type": "float"
        },
        {
         "name": "High",
         "rawType": "float64",
         "type": "float"
        },
        {
         "name": "Low",
         "rawType": "float64",
         "type": "float"
        },
        {
         "name": "Open",
         "rawType": "float64",
         "type": "float"
        },
        {
         "name": "Volume",
         "rawType": "int64",
         "type": "integer"
        },
        {
         "name": "SMA50",
         "rawType": "float64",
         "type": "float"
        }
       ],
       "ref": "e56bcb24-bad5-47ca-851e-19444d7c4ab4",
       "rows": [
        [
         "2022-01-03 00:00:00",
         "453.21038818359375",
         "453.3432221085792",
         "449.5483641714183",
         "451.87269728644833",
         "72668200",
         null
        ],
        [
         "2022-01-04 00:00:00",
         "453.05859375",
         "455.36399196778945",
         "451.1896250439962",
         "454.6429596895945",
         "71178700",
         null
        ],
        [
         "2022-01-05 00:00:00",
         "444.35888671875",
         "453.4665513931178",
         "444.2640094815494",
         "452.6885985815279",
         "104538900",
         null
        ],
        [
         "2022-01-06 00:00:00",
         "443.94146728515625",
         "446.6737696888694",
         "441.5601846155021",
         "443.89404314094736",
         "86858900",
         null
        ],
        [
         "2022-01-07 00:00:00",
         "442.1863098144531",
         "445.13682677779667",
         "440.82015870481285",
         "443.95093372793303",
         "85111600",
         null
        ],
        [
         "2022-01-10 00:00:00",
         "441.6360778808594",
         "441.85426367724875",
         "433.1830285614274",
         "438.97019256239554",
         "119362000",
         null
        ],
        [
         "2022-01-11 00:00:00",
         "445.65863037109375",
         "445.7535076103093",
         "438.35351723852057",
         "441.37045131175284",
         "74303100",
         null
        ],
        [
         "2022-01-12 00:00:00",
         "446.8634338378906",
         "448.9316531762477",
         "444.8901206798532",
         "447.4042079794436",
         "67605400",
         null
        ],
        [
         "2022-01-13 00:00:00",
         "440.7063293457031",
         "448.6281009203371",
         "439.6722340529678",
         "447.9734856231748",
         "91173100",
         null
        ],
        [
         "2022-01-14 00:00:00",
         "440.8865966796875",
         "441.2376164067843",
         "436.31378591285176",
         "437.5376357053383",
         "95890900",
         null
        ],
        [
         "2022-01-18 00:00:00",
         "433.0786437988281",
         "436.3706840511693",
         "431.95916771249045",
         "436.1619657170668",
         "109709100",
         null
        ],
        [
         "2022-01-19 00:00:00",
         "428.581787109375",
         "436.038669386356",
         "428.3066517901506",
         "434.63459041749303",
         "109357600",
         null
        ],
        [
         "2022-01-20 00:00:00",
         "423.83819580078125",
         "435.2132732011315",
         "421.7035882114097",
         "430.47919718993734",
         "122379700",
         null
        ],
        [
         "2022-01-21 00:00:00",
         "415.5179748535156",
         "425.08100399182297",
         "415.4895145774554",
         "422.70921781191396",
         "202271200",
         null
        ],
        [
         "2022-01-24 00:00:00",
         "417.2826232910156",
         "417.79493727814895",
         "399.18116158784653",
         "409.87316463268377",
         "251783900",
         null
        ],
        [
         "2022-01-25 00:00:00",
         "412.18804931640625",
         "417.1688011584923",
         "405.24345122798996",
         "410.85035820452066",
         "167997300",
         null
        ],
        [
         "2022-01-26 00:00:00",
         "411.1538391113281",
         "421.2671377897068",
         "406.86563162091994",
         "418.1173991265228",
         "186391100",
         null
        ],
        [
         "2022-01-27 00:00:00",
         "409.1236572265625",
         "418.9428587043433",
         "407.4254790114483",
         "415.7836519614338",
         "149878300",
         null
        ],
        [
         "2022-01-28 00:00:00",
         "419.284423828125",
         "419.3318479765455",
         "405.8790820647147",
         "410.48982106609395",
         "164457400",
         null
        ],
        [
         "2022-01-31 00:00:00",
         "426.83612060546875",
         "427.1871403186954",
         "417.25409889395814",
         "418.6107536054704",
         "152251400",
         null
        ],
        [
         "2022-02-01 00:00:00",
         "429.72027587890625",
         "430.3653948376376",
         "424.0184920508514",
         "427.5666752763449",
         "123155400",
         null
        ],
        [
         "2022-02-02 00:00:00",
         "433.8945617675781",
         "434.6250614750109",
         "429.815072239759",
         "432.13943423540405",
         "117361000",
         null
        ],
        [
         "2022-02-03 00:00:00",
         "423.6959228515625",
         "429.7392298888471",
         "422.85155300680765",
         "427.8228369251189",
         "118024400",
         null
        ],
        [
         "2022-02-04 00:00:00",
         "425.6882019042969",
         "429.558944272229",
         "421.06793803246376",
         "423.45871706931956",
         "118454400",
         null
        ],
        [
         "2022-02-07 00:00:00",
         "424.32208251953125",
         "427.86076929165415",
         "422.9843915183171",
         "426.4566902752509",
         "84472900",
         null
        ],
        [
         "2022-02-08 00:00:00",
         "427.81329345703125",
         "428.7430440345254",
         "422.38664568225283",
         "423.81921375669026",
         "81012000",
         null
        ],
        [
         "2022-02-09 00:00:00",
         "434.0748291015625",
         "434.39738854884314",
         "431.67458263733965",
         "431.873804570446",
         "92589900",
         null
        ],
        [
         "2022-02-10 00:00:00",
         "426.2764587402344",
         "434.2361593230949",
         "424.26518838420685",
         "428.19285184404936",
         "140103700",
         null
        ],
        [
         "2022-02-11 00:00:00",
         "417.8707275390625",
         "428.44888708129014",
         "416.42869210493336",
         "426.3617328176136",
         "153214600",
         null
        ],
        [
         "2022-02-14 00:00:00",
         "416.5046081542969",
         "418.95230765301676",
         "413.01334592070134",
         "417.3584743227841",
         "123006300",
         null
        ],
        [
         "2022-02-15 00:00:00",
         "423.2215576171875",
         "423.3923192839922",
         "420.4512984505421",
         "420.97310881351615",
         "88482700",
         null
        ],
        [
         "2022-02-16 00:00:00",
         "423.6959228515625",
         "425.08103798470324",
         "419.2749095843763",
         "421.1628422697683",
         "84863600",
         null
        ],
        [
         "2022-02-17 00:00:00",
         "414.6451721191406",
         "423.66745660673814",
         "414.0380098723644",
         "420.48925712577056",
         "102259100",
         null
        ],
        [
         "2022-02-18 00:00:00",
         "411.9602966308594",
         "416.16309480374946",
         "409.6738912733188",
         "414.90128833944823",
         "132642900",
         null
        ],
        [
         "2022-02-22 00:00:00",
         "407.5392761230469",
         "413.16514590282145",
         "404.0195246428283",
         "409.7403006112362",
         "124391800",
         null
        ],
        [
         "2022-02-23 00:00:00",
         "400.3100891113281",
         "411.0400476361501",
         "399.7408546290032",
         "410.47081315382513",
         "132578000",
         null
        ],
        [
         "2022-02-24 00:00:00",
         "406.33441162109375",
         "406.77084113993465",
         "389.5801389116673",
         "389.94062610412374",
         "213942900",
         null
        ],
        [
         "2022-02-25 00:00:00",
         "415.29974365234375",
         "415.3851244771424",
         "405.916943999085",
         "407.57719425925995",
         "121804500",
         null
        ],
        [
         "2022-02-28 00:00:00",
         "414.2371826171875",
         "415.72667120798485",
         "408.6113130445834",
         "409.8730904864747",
         "145615000",
         null
        ],
        [
         "2022-03-01 00:00:00",
         "407.92828369140625",
         "414.7495434726037",
         "405.205448672507",
         "412.7287768929972",
         "137785900",
         null
        ],
        [
         "2022-03-02 00:00:00",
         "415.4325866699219",
         "417.1687213837904",
         "409.43670436467914",
         "410.19566434782513",
         "117726500",
         null
        ],
        [
         "2022-03-03 00:00:00",
         "413.3643493652344",
         "418.4874014121752",
         "411.5523013595497",
         "417.88023924228025",
         "105501700",
         null
        ],
        [
         "2022-03-04 00:00:00",
         "410.00592041015625",
         "411.1443603337347",
         "405.9359274736328",
         "409.60744761780074",
         "113978200",
         null
        ],
        [
         "2022-03-07 00:00:00",
         "397.9193115234375",
         "410.12926237523544",
         "397.85289456055654",
         "409.4177265078582",
         "137896600",
         null
        ],
        [
         "2022-03-08 00:00:00",
         "394.9023742675781",
         "405.30027612358464",
         "393.83032234888356",
         "398.09953720583036",
         "164772700",
         null
        ],
        [
         "2022-03-09 00:00:00",
         "405.4900817871094",
         "407.4823880957403",
         "401.1354855574779",
         "403.33651022134575",
         "116990800",
         null
        ],
        [
         "2022-03-10 00:00:00",
         "403.65899658203125",
         "404.56025785314716",
         "398.87746809778616",
         "400.8507812288038",
         "93972700",
         null
        ],
        [
         "2022-03-11 00:00:00",
         "398.5264892578125",
         "406.78028766963047",
         "398.01417534388236",
         "406.16362906252124",
         "95636300",
         null
        ],
        [
         "2022-03-14 00:00:00",
         "395.61395263671875",
         "402.7767356418395",
         "394.4660161806034",
         "399.3044659961506",
         "95729200",
         null
        ],
        [
         "2022-03-15 00:00:00",
         "404.3136901855469",
         "404.9493127170051",
         "396.96115246536465",
         "398.24189393851697",
         "106219100",
         "421.4730535888672"
        ]
       ],
       "shape": {
        "columns": 6,
        "rows": 938
       }
      },
      "text/html": [
       "<div>\n",
       "<style scoped>\n",
       "    .dataframe tbody tr th:only-of-type {\n",
       "        vertical-align: middle;\n",
       "    }\n",
       "\n",
       "    .dataframe tbody tr th {\n",
       "        vertical-align: top;\n",
       "    }\n",
       "\n",
       "    .dataframe thead th {\n",
       "        text-align: right;\n",
       "    }\n",
       "</style>\n",
       "<table border=\"1\" class=\"dataframe\">\n",
       "  <thead>\n",
       "    <tr style=\"text-align: right;\">\n",
       "      <th>Price</th>\n",
       "      <th>Close</th>\n",
       "      <th>High</th>\n",
       "      <th>Low</th>\n",
       "      <th>Open</th>\n",
       "      <th>Volume</th>\n",
       "      <th>SMA50</th>\n",
       "    </tr>\n",
       "    <tr>\n",
       "      <th>Date</th>\n",
       "      <th></th>\n",
       "      <th></th>\n",
       "      <th></th>\n",
       "      <th></th>\n",
       "      <th></th>\n",
       "      <th></th>\n",
       "    </tr>\n",
       "  </thead>\n",
       "  <tbody>\n",
       "    <tr>\n",
       "      <th>2022-01-03</th>\n",
       "      <td>453.210388</td>\n",
       "      <td>453.343222</td>\n",
       "      <td>449.548364</td>\n",
       "      <td>451.872697</td>\n",
       "      <td>72668200</td>\n",
       "      <td>NaN</td>\n",
       "    </tr>\n",
       "    <tr>\n",
       "      <th>2022-01-04</th>\n",
       "      <td>453.058594</td>\n",
       "      <td>455.363992</td>\n",
       "      <td>451.189625</td>\n",
       "      <td>454.642960</td>\n",
       "      <td>71178700</td>\n",
       "      <td>NaN</td>\n",
       "    </tr>\n",
       "    <tr>\n",
       "      <th>2022-01-05</th>\n",
       "      <td>444.358887</td>\n",
       "      <td>453.466551</td>\n",
       "      <td>444.264009</td>\n",
       "      <td>452.688599</td>\n",
       "      <td>104538900</td>\n",
       "      <td>NaN</td>\n",
       "    </tr>\n",
       "    <tr>\n",
       "      <th>2022-01-06</th>\n",
       "      <td>443.941467</td>\n",
       "      <td>446.673770</td>\n",
       "      <td>441.560185</td>\n",
       "      <td>443.894043</td>\n",
       "      <td>86858900</td>\n",
       "      <td>NaN</td>\n",
       "    </tr>\n",
       "    <tr>\n",
       "      <th>2022-01-07</th>\n",
       "      <td>442.186310</td>\n",
       "      <td>445.136827</td>\n",
       "      <td>440.820159</td>\n",
       "      <td>443.950934</td>\n",
       "      <td>85111600</td>\n",
       "      <td>NaN</td>\n",
       "    </tr>\n",
       "    <tr>\n",
       "      <th>...</th>\n",
       "      <td>...</td>\n",
       "      <td>...</td>\n",
       "      <td>...</td>\n",
       "      <td>...</td>\n",
       "      <td>...</td>\n",
       "      <td>...</td>\n",
       "    </tr>\n",
       "    <tr>\n",
       "      <th>2025-09-23</th>\n",
       "      <td>663.210022</td>\n",
       "      <td>667.340027</td>\n",
       "      <td>661.979980</td>\n",
       "      <td>666.719971</td>\n",
       "      <td>81708900</td>\n",
       "      <td>640.579186</td>\n",
       "    </tr>\n",
       "    <tr>\n",
       "      <th>2025-09-24</th>\n",
       "      <td>661.099976</td>\n",
       "      <td>664.609985</td>\n",
       "      <td>659.669983</td>\n",
       "      <td>664.510010</td>\n",
       "      <td>68082200</td>\n",
       "      <td>641.392787</td>\n",
       "    </tr>\n",
       "    <tr>\n",
       "      <th>2025-09-25</th>\n",
       "      <td>658.049988</td>\n",
       "      <td>659.409973</td>\n",
       "      <td>654.409973</td>\n",
       "      <td>657.940002</td>\n",
       "      <td>89622100</td>\n",
       "      <td>642.103904</td>\n",
       "    </tr>\n",
       "    <tr>\n",
       "      <th>2025-09-26</th>\n",
       "      <td>661.820007</td>\n",
       "      <td>662.369995</td>\n",
       "      <td>657.880005</td>\n",
       "      <td>659.510010</td>\n",
       "      <td>69142300</td>\n",
       "      <td>642.814232</td>\n",
       "    </tr>\n",
       "    <tr>\n",
       "      <th>2025-09-29</th>\n",
       "      <td>662.710022</td>\n",
       "      <td>665.200012</td>\n",
       "      <td>662.419983</td>\n",
       "      <td>664.359985</td>\n",
       "      <td>36247948</td>\n",
       "      <td>643.551534</td>\n",
       "    </tr>\n",
       "  </tbody>\n",
       "</table>\n",
       "<p>938 rows × 6 columns</p>\n",
       "</div>"
      ],
      "text/plain": [
       "Price            Close        High         Low        Open     Volume  \\\n",
       "Date                                                                    \n",
       "2022-01-03  453.210388  453.343222  449.548364  451.872697   72668200   \n",
       "2022-01-04  453.058594  455.363992  451.189625  454.642960   71178700   \n",
       "2022-01-05  444.358887  453.466551  444.264009  452.688599  104538900   \n",
       "2022-01-06  443.941467  446.673770  441.560185  443.894043   86858900   \n",
       "2022-01-07  442.186310  445.136827  440.820159  443.950934   85111600   \n",
       "...                ...         ...         ...         ...        ...   \n",
       "2025-09-23  663.210022  667.340027  661.979980  666.719971   81708900   \n",
       "2025-09-24  661.099976  664.609985  659.669983  664.510010   68082200   \n",
       "2025-09-25  658.049988  659.409973  654.409973  657.940002   89622100   \n",
       "2025-09-26  661.820007  662.369995  657.880005  659.510010   69142300   \n",
       "2025-09-29  662.710022  665.200012  662.419983  664.359985   36247948   \n",
       "\n",
       "Price            SMA50  \n",
       "Date                    \n",
       "2022-01-03         NaN  \n",
       "2022-01-04         NaN  \n",
       "2022-01-05         NaN  \n",
       "2022-01-06         NaN  \n",
       "2022-01-07         NaN  \n",
       "...                ...  \n",
       "2025-09-23  640.579186  \n",
       "2025-09-24  641.392787  \n",
       "2025-09-25  642.103904  \n",
       "2025-09-26  642.814232  \n",
       "2025-09-29  643.551534  \n",
       "\n",
       "[938 rows x 6 columns]"
      ]
     },
     "execution_count": 10,
     "metadata": {},
     "output_type": "execute_result"
    }
   ],
   "source": [
    "data['SMA50'] = data['Close'].rolling(window=50).mean()\n",
    "# take mean of each group of 50 rows, i.e., \n",
    "# mean for Day 1-50, mean for Day 2-51 etc.\n",
    "# or just the 50-day simple moving average\n",
    "data"
   ]
  },
  {
   "cell_type": "markdown",
   "id": "51789c4a",
   "metadata": {},
   "source": [
    "Rolling returns all possible consecutive windows of a desired size. We then calculate the mean, allowing us to get the average of the price over the window, which is the last 50 days.\n",
    "\n",
    "**Note**: Notice that for the first 49 values, the moving average does not have a value. That is because there are not 49 prices before it to be able to get a rolling window (to then average). Moving averages cannot start immediately."
   ]
  },
  {
   "cell_type": "markdown",
   "id": "bb1b85ee",
   "metadata": {},
   "source": [
    "### Calculate Position\n",
    "\n",
    "The position is simple. If the ticker is above the average, the position is 1, and that means we'd like to have some of the ticker. If the ticker is below the average, the position is 0, and that means we'd like to not have any ticker."
   ]
  },
  {
   "cell_type": "code",
   "execution_count": 19,
   "id": "fd3fa305",
   "metadata": {},
   "outputs": [
    {
     "data": {
      "application/vnd.microsoft.datawrangler.viewer.v0+json": {
       "columns": [
        {
         "name": "Date",
         "rawType": "datetime64[ns]",
         "type": "datetime"
        },
        {
         "name": "Close",
         "rawType": "float64",
         "type": "float"
        },
        {
         "name": "High",
         "rawType": "float64",
         "type": "float"
        },
        {
         "name": "Low",
         "rawType": "float64",
         "type": "float"
        },
        {
         "name": "Open",
         "rawType": "float64",
         "type": "float"
        },
        {
         "name": "Volume",
         "rawType": "int64",
         "type": "integer"
        },
        {
         "name": "SMA50",
         "rawType": "float64",
         "type": "float"
        },
        {
         "name": "Position",
         "rawType": "int64",
         "type": "integer"
        }
       ],
       "ref": "512a0b4e-c636-47fd-893b-69744b9583cc",
       "rows": [
        [
         "2022-01-03 00:00:00",
         "453.21038818359375",
         "453.3432221085792",
         "449.5483641714183",
         "451.87269728644833",
         "72668200",
         null,
         "0"
        ],
        [
         "2022-01-04 00:00:00",
         "453.05859375",
         "455.36399196778945",
         "451.1896250439962",
         "454.6429596895945",
         "71178700",
         null,
         "0"
        ],
        [
         "2022-01-05 00:00:00",
         "444.35888671875",
         "453.4665513931178",
         "444.2640094815494",
         "452.6885985815279",
         "104538900",
         null,
         "0"
        ],
        [
         "2022-01-06 00:00:00",
         "443.94146728515625",
         "446.6737696888694",
         "441.5601846155021",
         "443.89404314094736",
         "86858900",
         null,
         "0"
        ],
        [
         "2022-01-07 00:00:00",
         "442.1863098144531",
         "445.13682677779667",
         "440.82015870481285",
         "443.95093372793303",
         "85111600",
         null,
         "0"
        ],
        [
         "2022-01-10 00:00:00",
         "441.6360778808594",
         "441.85426367724875",
         "433.1830285614274",
         "438.97019256239554",
         "119362000",
         null,
         "0"
        ],
        [
         "2022-01-11 00:00:00",
         "445.65863037109375",
         "445.7535076103093",
         "438.35351723852057",
         "441.37045131175284",
         "74303100",
         null,
         "0"
        ],
        [
         "2022-01-12 00:00:00",
         "446.8634338378906",
         "448.9316531762477",
         "444.8901206798532",
         "447.4042079794436",
         "67605400",
         null,
         "0"
        ],
        [
         "2022-01-13 00:00:00",
         "440.7063293457031",
         "448.6281009203371",
         "439.6722340529678",
         "447.9734856231748",
         "91173100",
         null,
         "0"
        ],
        [
         "2022-01-14 00:00:00",
         "440.8865966796875",
         "441.2376164067843",
         "436.31378591285176",
         "437.5376357053383",
         "95890900",
         null,
         "0"
        ],
        [
         "2022-01-18 00:00:00",
         "433.0786437988281",
         "436.3706840511693",
         "431.95916771249045",
         "436.1619657170668",
         "109709100",
         null,
         "0"
        ],
        [
         "2022-01-19 00:00:00",
         "428.581787109375",
         "436.038669386356",
         "428.3066517901506",
         "434.63459041749303",
         "109357600",
         null,
         "0"
        ],
        [
         "2022-01-20 00:00:00",
         "423.83819580078125",
         "435.2132732011315",
         "421.7035882114097",
         "430.47919718993734",
         "122379700",
         null,
         "0"
        ],
        [
         "2022-01-21 00:00:00",
         "415.5179748535156",
         "425.08100399182297",
         "415.4895145774554",
         "422.70921781191396",
         "202271200",
         null,
         "0"
        ],
        [
         "2022-01-24 00:00:00",
         "417.2826232910156",
         "417.79493727814895",
         "399.18116158784653",
         "409.87316463268377",
         "251783900",
         null,
         "0"
        ],
        [
         "2022-01-25 00:00:00",
         "412.18804931640625",
         "417.1688011584923",
         "405.24345122798996",
         "410.85035820452066",
         "167997300",
         null,
         "0"
        ],
        [
         "2022-01-26 00:00:00",
         "411.1538391113281",
         "421.2671377897068",
         "406.86563162091994",
         "418.1173991265228",
         "186391100",
         null,
         "0"
        ],
        [
         "2022-01-27 00:00:00",
         "409.1236572265625",
         "418.9428587043433",
         "407.4254790114483",
         "415.7836519614338",
         "149878300",
         null,
         "0"
        ],
        [
         "2022-01-28 00:00:00",
         "419.284423828125",
         "419.3318479765455",
         "405.8790820647147",
         "410.48982106609395",
         "164457400",
         null,
         "0"
        ],
        [
         "2022-01-31 00:00:00",
         "426.83612060546875",
         "427.1871403186954",
         "417.25409889395814",
         "418.6107536054704",
         "152251400",
         null,
         "0"
        ],
        [
         "2022-02-01 00:00:00",
         "429.72027587890625",
         "430.3653948376376",
         "424.0184920508514",
         "427.5666752763449",
         "123155400",
         null,
         "0"
        ],
        [
         "2022-02-02 00:00:00",
         "433.8945617675781",
         "434.6250614750109",
         "429.815072239759",
         "432.13943423540405",
         "117361000",
         null,
         "0"
        ],
        [
         "2022-02-03 00:00:00",
         "423.6959228515625",
         "429.7392298888471",
         "422.85155300680765",
         "427.8228369251189",
         "118024400",
         null,
         "0"
        ],
        [
         "2022-02-04 00:00:00",
         "425.6882019042969",
         "429.558944272229",
         "421.06793803246376",
         "423.45871706931956",
         "118454400",
         null,
         "0"
        ],
        [
         "2022-02-07 00:00:00",
         "424.32208251953125",
         "427.86076929165415",
         "422.9843915183171",
         "426.4566902752509",
         "84472900",
         null,
         "0"
        ],
        [
         "2022-02-08 00:00:00",
         "427.81329345703125",
         "428.7430440345254",
         "422.38664568225283",
         "423.81921375669026",
         "81012000",
         null,
         "0"
        ],
        [
         "2022-02-09 00:00:00",
         "434.0748291015625",
         "434.39738854884314",
         "431.67458263733965",
         "431.873804570446",
         "92589900",
         null,
         "0"
        ],
        [
         "2022-02-10 00:00:00",
         "426.2764587402344",
         "434.2361593230949",
         "424.26518838420685",
         "428.19285184404936",
         "140103700",
         null,
         "0"
        ],
        [
         "2022-02-11 00:00:00",
         "417.8707275390625",
         "428.44888708129014",
         "416.42869210493336",
         "426.3617328176136",
         "153214600",
         null,
         "0"
        ],
        [
         "2022-02-14 00:00:00",
         "416.5046081542969",
         "418.95230765301676",
         "413.01334592070134",
         "417.3584743227841",
         "123006300",
         null,
         "0"
        ],
        [
         "2022-02-15 00:00:00",
         "423.2215576171875",
         "423.3923192839922",
         "420.4512984505421",
         "420.97310881351615",
         "88482700",
         null,
         "0"
        ],
        [
         "2022-02-16 00:00:00",
         "423.6959228515625",
         "425.08103798470324",
         "419.2749095843763",
         "421.1628422697683",
         "84863600",
         null,
         "0"
        ],
        [
         "2022-02-17 00:00:00",
         "414.6451721191406",
         "423.66745660673814",
         "414.0380098723644",
         "420.48925712577056",
         "102259100",
         null,
         "0"
        ],
        [
         "2022-02-18 00:00:00",
         "411.9602966308594",
         "416.16309480374946",
         "409.6738912733188",
         "414.90128833944823",
         "132642900",
         null,
         "0"
        ],
        [
         "2022-02-22 00:00:00",
         "407.5392761230469",
         "413.16514590282145",
         "404.0195246428283",
         "409.7403006112362",
         "124391800",
         null,
         "0"
        ],
        [
         "2022-02-23 00:00:00",
         "400.3100891113281",
         "411.0400476361501",
         "399.7408546290032",
         "410.47081315382513",
         "132578000",
         null,
         "0"
        ],
        [
         "2022-02-24 00:00:00",
         "406.33441162109375",
         "406.77084113993465",
         "389.5801389116673",
         "389.94062610412374",
         "213942900",
         null,
         "0"
        ],
        [
         "2022-02-25 00:00:00",
         "415.29974365234375",
         "415.3851244771424",
         "405.916943999085",
         "407.57719425925995",
         "121804500",
         null,
         "0"
        ],
        [
         "2022-02-28 00:00:00",
         "414.2371826171875",
         "415.72667120798485",
         "408.6113130445834",
         "409.8730904864747",
         "145615000",
         null,
         "0"
        ],
        [
         "2022-03-01 00:00:00",
         "407.92828369140625",
         "414.7495434726037",
         "405.205448672507",
         "412.7287768929972",
         "137785900",
         null,
         "0"
        ],
        [
         "2022-03-02 00:00:00",
         "415.4325866699219",
         "417.1687213837904",
         "409.43670436467914",
         "410.19566434782513",
         "117726500",
         null,
         "0"
        ],
        [
         "2022-03-03 00:00:00",
         "413.3643493652344",
         "418.4874014121752",
         "411.5523013595497",
         "417.88023924228025",
         "105501700",
         null,
         "0"
        ],
        [
         "2022-03-04 00:00:00",
         "410.00592041015625",
         "411.1443603337347",
         "405.9359274736328",
         "409.60744761780074",
         "113978200",
         null,
         "0"
        ],
        [
         "2022-03-07 00:00:00",
         "397.9193115234375",
         "410.12926237523544",
         "397.85289456055654",
         "409.4177265078582",
         "137896600",
         null,
         "0"
        ],
        [
         "2022-03-08 00:00:00",
         "394.9023742675781",
         "405.30027612358464",
         "393.83032234888356",
         "398.09953720583036",
         "164772700",
         null,
         "0"
        ],
        [
         "2022-03-09 00:00:00",
         "405.4900817871094",
         "407.4823880957403",
         "401.1354855574779",
         "403.33651022134575",
         "116990800",
         null,
         "0"
        ],
        [
         "2022-03-10 00:00:00",
         "403.65899658203125",
         "404.56025785314716",
         "398.87746809778616",
         "400.8507812288038",
         "93972700",
         null,
         "0"
        ],
        [
         "2022-03-11 00:00:00",
         "398.5264892578125",
         "406.78028766963047",
         "398.01417534388236",
         "406.16362906252124",
         "95636300",
         null,
         "0"
        ],
        [
         "2022-03-14 00:00:00",
         "395.61395263671875",
         "402.7767356418395",
         "394.4660161806034",
         "399.3044659961506",
         "95729200",
         null,
         "0"
        ],
        [
         "2022-03-15 00:00:00",
         "404.3136901855469",
         "404.9493127170051",
         "396.96115246536465",
         "398.24189393851697",
         "106219100",
         "421.4730535888672",
         "0"
        ]
       ],
       "shape": {
        "columns": 7,
        "rows": 938
       }
      },
      "text/html": [
       "<div>\n",
       "<style scoped>\n",
       "    .dataframe tbody tr th:only-of-type {\n",
       "        vertical-align: middle;\n",
       "    }\n",
       "\n",
       "    .dataframe tbody tr th {\n",
       "        vertical-align: top;\n",
       "    }\n",
       "\n",
       "    .dataframe thead th {\n",
       "        text-align: right;\n",
       "    }\n",
       "</style>\n",
       "<table border=\"1\" class=\"dataframe\">\n",
       "  <thead>\n",
       "    <tr style=\"text-align: right;\">\n",
       "      <th>Price</th>\n",
       "      <th>Close</th>\n",
       "      <th>High</th>\n",
       "      <th>Low</th>\n",
       "      <th>Open</th>\n",
       "      <th>Volume</th>\n",
       "      <th>SMA50</th>\n",
       "      <th>Position</th>\n",
       "    </tr>\n",
       "    <tr>\n",
       "      <th>Date</th>\n",
       "      <th></th>\n",
       "      <th></th>\n",
       "      <th></th>\n",
       "      <th></th>\n",
       "      <th></th>\n",
       "      <th></th>\n",
       "      <th></th>\n",
       "    </tr>\n",
       "  </thead>\n",
       "  <tbody>\n",
       "    <tr>\n",
       "      <th>2022-01-03</th>\n",
       "      <td>453.210388</td>\n",
       "      <td>453.343222</td>\n",
       "      <td>449.548364</td>\n",
       "      <td>451.872697</td>\n",
       "      <td>72668200</td>\n",
       "      <td>NaN</td>\n",
       "      <td>0</td>\n",
       "    </tr>\n",
       "    <tr>\n",
       "      <th>2022-01-04</th>\n",
       "      <td>453.058594</td>\n",
       "      <td>455.363992</td>\n",
       "      <td>451.189625</td>\n",
       "      <td>454.642960</td>\n",
       "      <td>71178700</td>\n",
       "      <td>NaN</td>\n",
       "      <td>0</td>\n",
       "    </tr>\n",
       "    <tr>\n",
       "      <th>2022-01-05</th>\n",
       "      <td>444.358887</td>\n",
       "      <td>453.466551</td>\n",
       "      <td>444.264009</td>\n",
       "      <td>452.688599</td>\n",
       "      <td>104538900</td>\n",
       "      <td>NaN</td>\n",
       "      <td>0</td>\n",
       "    </tr>\n",
       "    <tr>\n",
       "      <th>2022-01-06</th>\n",
       "      <td>443.941467</td>\n",
       "      <td>446.673770</td>\n",
       "      <td>441.560185</td>\n",
       "      <td>443.894043</td>\n",
       "      <td>86858900</td>\n",
       "      <td>NaN</td>\n",
       "      <td>0</td>\n",
       "    </tr>\n",
       "    <tr>\n",
       "      <th>2022-01-07</th>\n",
       "      <td>442.186310</td>\n",
       "      <td>445.136827</td>\n",
       "      <td>440.820159</td>\n",
       "      <td>443.950934</td>\n",
       "      <td>85111600</td>\n",
       "      <td>NaN</td>\n",
       "      <td>0</td>\n",
       "    </tr>\n",
       "    <tr>\n",
       "      <th>...</th>\n",
       "      <td>...</td>\n",
       "      <td>...</td>\n",
       "      <td>...</td>\n",
       "      <td>...</td>\n",
       "      <td>...</td>\n",
       "      <td>...</td>\n",
       "      <td>...</td>\n",
       "    </tr>\n",
       "    <tr>\n",
       "      <th>2025-09-23</th>\n",
       "      <td>663.210022</td>\n",
       "      <td>667.340027</td>\n",
       "      <td>661.979980</td>\n",
       "      <td>666.719971</td>\n",
       "      <td>81708900</td>\n",
       "      <td>640.579186</td>\n",
       "      <td>1</td>\n",
       "    </tr>\n",
       "    <tr>\n",
       "      <th>2025-09-24</th>\n",
       "      <td>661.099976</td>\n",
       "      <td>664.609985</td>\n",
       "      <td>659.669983</td>\n",
       "      <td>664.510010</td>\n",
       "      <td>68082200</td>\n",
       "      <td>641.392787</td>\n",
       "      <td>1</td>\n",
       "    </tr>\n",
       "    <tr>\n",
       "      <th>2025-09-25</th>\n",
       "      <td>658.049988</td>\n",
       "      <td>659.409973</td>\n",
       "      <td>654.409973</td>\n",
       "      <td>657.940002</td>\n",
       "      <td>89622100</td>\n",
       "      <td>642.103904</td>\n",
       "      <td>1</td>\n",
       "    </tr>\n",
       "    <tr>\n",
       "      <th>2025-09-26</th>\n",
       "      <td>661.820007</td>\n",
       "      <td>662.369995</td>\n",
       "      <td>657.880005</td>\n",
       "      <td>659.510010</td>\n",
       "      <td>69142300</td>\n",
       "      <td>642.814232</td>\n",
       "      <td>1</td>\n",
       "    </tr>\n",
       "    <tr>\n",
       "      <th>2025-09-29</th>\n",
       "      <td>662.710022</td>\n",
       "      <td>665.200012</td>\n",
       "      <td>662.419983</td>\n",
       "      <td>664.359985</td>\n",
       "      <td>36247948</td>\n",
       "      <td>643.551534</td>\n",
       "      <td>1</td>\n",
       "    </tr>\n",
       "  </tbody>\n",
       "</table>\n",
       "<p>938 rows × 7 columns</p>\n",
       "</div>"
      ],
      "text/plain": [
       "Price            Close        High         Low        Open     Volume  \\\n",
       "Date                                                                    \n",
       "2022-01-03  453.210388  453.343222  449.548364  451.872697   72668200   \n",
       "2022-01-04  453.058594  455.363992  451.189625  454.642960   71178700   \n",
       "2022-01-05  444.358887  453.466551  444.264009  452.688599  104538900   \n",
       "2022-01-06  443.941467  446.673770  441.560185  443.894043   86858900   \n",
       "2022-01-07  442.186310  445.136827  440.820159  443.950934   85111600   \n",
       "...                ...         ...         ...         ...        ...   \n",
       "2025-09-23  663.210022  667.340027  661.979980  666.719971   81708900   \n",
       "2025-09-24  661.099976  664.609985  659.669983  664.510010   68082200   \n",
       "2025-09-25  658.049988  659.409973  654.409973  657.940002   89622100   \n",
       "2025-09-26  661.820007  662.369995  657.880005  659.510010   69142300   \n",
       "2025-09-29  662.710022  665.200012  662.419983  664.359985   36247948   \n",
       "\n",
       "Price            SMA50  Position  \n",
       "Date                              \n",
       "2022-01-03         NaN         0  \n",
       "2022-01-04         NaN         0  \n",
       "2022-01-05         NaN         0  \n",
       "2022-01-06         NaN         0  \n",
       "2022-01-07         NaN         0  \n",
       "...                ...       ...  \n",
       "2025-09-23  640.579186         1  \n",
       "2025-09-24  641.392787         1  \n",
       "2025-09-25  642.103904         1  \n",
       "2025-09-26  642.814232         1  \n",
       "2025-09-29  643.551534         1  \n",
       "\n",
       "[938 rows x 7 columns]"
      ]
     },
     "execution_count": 19,
     "metadata": {},
     "output_type": "execute_result"
    }
   ],
   "source": [
    "data['Position'] = np.where(data['Close'] > data['SMA50'], 1, 0) # 1 if above SMA, else 0\n",
    "data"
   ]
  },
  {
   "cell_type": "markdown",
   "id": "9f53b5fa",
   "metadata": {},
   "source": [
    "`Numpy`'s (or np) `where` function will evaluate a Boolean(true or false) expression, and set the values accordingly if it is true or false over an array of numbers.\n",
    "\n",
    "**Note**: Notice that for the first 49 values, the moving average does not have a value. It fails the condition set, so it gets set to 0. This makes sense, since there is still not enough data to determine if we want stock right now with this strategy."
   ]
  },
  {
   "cell_type": "markdown",
   "id": "b628b4ea",
   "metadata": {},
   "source": [
    "### Calculate Signal\n",
    "\n",
    "The signal is a sign to either buy or sell. The signal being used is whenever the position changes. If the signal is 1, it means we went from a position of 0 -> 1, or from not wanting any of the ticker to wanting it. Therefore, we should buy. The opposite occurs if the signal is -1. 0s can occur, but that means the position has not changed, so no action will be taken."
   ]
  },
  {
   "cell_type": "code",
   "execution_count": 20,
   "id": "c10c2719",
   "metadata": {},
   "outputs": [
    {
     "data": {
      "application/vnd.microsoft.datawrangler.viewer.v0+json": {
       "columns": [
        {
         "name": "Date",
         "rawType": "datetime64[ns]",
         "type": "datetime"
        },
        {
         "name": "Close",
         "rawType": "float64",
         "type": "float"
        },
        {
         "name": "High",
         "rawType": "float64",
         "type": "float"
        },
        {
         "name": "Low",
         "rawType": "float64",
         "type": "float"
        },
        {
         "name": "Open",
         "rawType": "float64",
         "type": "float"
        },
        {
         "name": "Volume",
         "rawType": "int64",
         "type": "integer"
        },
        {
         "name": "SMA50",
         "rawType": "float64",
         "type": "float"
        },
        {
         "name": "Position",
         "rawType": "int64",
         "type": "integer"
        },
        {
         "name": "Signal",
         "rawType": "float64",
         "type": "float"
        }
       ],
       "ref": "ddade854-8e5d-4a17-a902-c9272bd08148",
       "rows": [
        [
         "2022-01-03 00:00:00",
         "453.21038818359375",
         "453.3432221085792",
         "449.5483641714183",
         "451.87269728644833",
         "72668200",
         null,
         "0",
         null
        ],
        [
         "2022-03-18 00:00:00",
         "423.03271484375",
         "423.35627638745905",
         "416.08559496003465",
         "416.8278900408766",
         "106345500",
         "419.55572204589845",
         "1",
         "1.0"
        ],
        [
         "2022-04-11 00:00:00",
         "418.6550598144531",
         "423.4894888409876",
         "418.1506802366311",
         "422.6424959229476",
         "89770500",
         "419.39037536621095",
         "0",
         "-1.0"
        ],
        [
         "2022-04-13 00:00:00",
         "421.8811950683594",
         "422.6425129001169",
         "416.6756038010192",
         "416.85642186848395",
         "74070400",
         "419.03894897460935",
         "1",
         "1.0"
        ],
        [
         "2022-04-14 00:00:00",
         "416.6280212402344",
         "423.23255635554136",
         "416.52332334176606",
         "422.1095733763251",
         "97869500",
         "418.6936181640625",
         "0",
         "-1.0"
        ]
       ],
       "shape": {
        "columns": 8,
        "rows": 5
       }
      },
      "text/html": [
       "<div>\n",
       "<style scoped>\n",
       "    .dataframe tbody tr th:only-of-type {\n",
       "        vertical-align: middle;\n",
       "    }\n",
       "\n",
       "    .dataframe tbody tr th {\n",
       "        vertical-align: top;\n",
       "    }\n",
       "\n",
       "    .dataframe thead th {\n",
       "        text-align: right;\n",
       "    }\n",
       "</style>\n",
       "<table border=\"1\" class=\"dataframe\">\n",
       "  <thead>\n",
       "    <tr style=\"text-align: right;\">\n",
       "      <th>Price</th>\n",
       "      <th>Close</th>\n",
       "      <th>High</th>\n",
       "      <th>Low</th>\n",
       "      <th>Open</th>\n",
       "      <th>Volume</th>\n",
       "      <th>SMA50</th>\n",
       "      <th>Position</th>\n",
       "      <th>Signal</th>\n",
       "    </tr>\n",
       "    <tr>\n",
       "      <th>Date</th>\n",
       "      <th></th>\n",
       "      <th></th>\n",
       "      <th></th>\n",
       "      <th></th>\n",
       "      <th></th>\n",
       "      <th></th>\n",
       "      <th></th>\n",
       "      <th></th>\n",
       "    </tr>\n",
       "  </thead>\n",
       "  <tbody>\n",
       "    <tr>\n",
       "      <th>2022-01-03</th>\n",
       "      <td>453.210388</td>\n",
       "      <td>453.343222</td>\n",
       "      <td>449.548364</td>\n",
       "      <td>451.872697</td>\n",
       "      <td>72668200</td>\n",
       "      <td>NaN</td>\n",
       "      <td>0</td>\n",
       "      <td>NaN</td>\n",
       "    </tr>\n",
       "    <tr>\n",
       "      <th>2022-03-18</th>\n",
       "      <td>423.032715</td>\n",
       "      <td>423.356276</td>\n",
       "      <td>416.085595</td>\n",
       "      <td>416.827890</td>\n",
       "      <td>106345500</td>\n",
       "      <td>419.555722</td>\n",
       "      <td>1</td>\n",
       "      <td>1.0</td>\n",
       "    </tr>\n",
       "    <tr>\n",
       "      <th>2022-04-11</th>\n",
       "      <td>418.655060</td>\n",
       "      <td>423.489489</td>\n",
       "      <td>418.150680</td>\n",
       "      <td>422.642496</td>\n",
       "      <td>89770500</td>\n",
       "      <td>419.390375</td>\n",
       "      <td>0</td>\n",
       "      <td>-1.0</td>\n",
       "    </tr>\n",
       "    <tr>\n",
       "      <th>2022-04-13</th>\n",
       "      <td>421.881195</td>\n",
       "      <td>422.642513</td>\n",
       "      <td>416.675604</td>\n",
       "      <td>416.856422</td>\n",
       "      <td>74070400</td>\n",
       "      <td>419.038949</td>\n",
       "      <td>1</td>\n",
       "      <td>1.0</td>\n",
       "    </tr>\n",
       "    <tr>\n",
       "      <th>2022-04-14</th>\n",
       "      <td>416.628021</td>\n",
       "      <td>423.232556</td>\n",
       "      <td>416.523323</td>\n",
       "      <td>422.109573</td>\n",
       "      <td>97869500</td>\n",
       "      <td>418.693618</td>\n",
       "      <td>0</td>\n",
       "      <td>-1.0</td>\n",
       "    </tr>\n",
       "  </tbody>\n",
       "</table>\n",
       "</div>"
      ],
      "text/plain": [
       "Price            Close        High         Low        Open     Volume  \\\n",
       "Date                                                                    \n",
       "2022-01-03  453.210388  453.343222  449.548364  451.872697   72668200   \n",
       "2022-03-18  423.032715  423.356276  416.085595  416.827890  106345500   \n",
       "2022-04-11  418.655060  423.489489  418.150680  422.642496   89770500   \n",
       "2022-04-13  421.881195  422.642513  416.675604  416.856422   74070400   \n",
       "2022-04-14  416.628021  423.232556  416.523323  422.109573   97869500   \n",
       "\n",
       "Price            SMA50  Position  Signal  \n",
       "Date                                      \n",
       "2022-01-03         NaN         0     NaN  \n",
       "2022-03-18  419.555722         1     1.0  \n",
       "2022-04-11  419.390375         0    -1.0  \n",
       "2022-04-13  419.038949         1     1.0  \n",
       "2022-04-14  418.693618         0    -1.0  "
      ]
     },
     "execution_count": 20,
     "metadata": {},
     "output_type": "execute_result"
    }
   ],
   "source": [
    "data['Signal'] = data['Position'].diff() # difference between current and previous row\n",
    "data[data['Signal'] != 0].head() # show rows that have a signal (buy or sell)"
   ]
  },
  {
   "cell_type": "code",
   "execution_count": 21,
   "id": "bb0edf9f",
   "metadata": {},
   "outputs": [
    {
     "data": {
      "image/png": "[encoded data removed]",
      "text/plain": [
       "<Figure size 1200x600 with 1 Axes>"
      ]
     },
     "metadata": {},
     "output_type": "display_data"
    }
   ],
   "source": [
    "plot_data(data)\n",
    "plt.plot(data['SMA50'], label='50-Day SMA', linestyle='--')\n",
    "plt.legend() # show legend\n",
    "plt.show()"
   ]
  },
  {
   "cell_type": "markdown",
   "id": "a5785505",
   "metadata": {},
   "source": [
    "#### Plot Signals\n",
    "\n",
    "We can plot the signals to get a visual intuition of the strategy."
   ]
  },
  {
   "cell_type": "code",
   "execution_count": null,
   "id": "215fcd1d",
   "metadata": {},
   "outputs": [
    {
     "data": {
      "image/png": "[encoded data removed]",
      "text/plain": [
       "<Figure size 1200x600 with 1 Axes>"
      ]
     },
     "metadata": {},
     "output_type": "display_data"
    }
   ],
   "source": [
    "plot_data(data)\n",
    "plt.plot(data['SMA50'], label='50-Day SMA', linestyle='--')\n",
    "\n",
    "buy_signal = (data['Signal'] == 1.0) # where signal is 1\n",
    "plt.scatter(data.index[buy_signal], \n",
    "            data['Close'][buy_signal],\n",
    "            label='Buy Signal', marker='^', color='green', s=100)\n",
    "\n",
    "sell_signal = (data['Signal'] == -1.0) # where signal is -1\n",
    "plt.scatter(data.index[sell_signal], \n",
    "            data['Close'][sell_signal],\n",
    "            label='Sell Signal', marker='v', color='red', s=100)\n",
    "\n",
    "plt.legend()\n",
    "plt.show()"
   ]
  },
  {
   "cell_type": "markdown",
   "id": "904b6266",
   "metadata": {},
   "source": [
    "## Calculating Strategy Returns\n",
    "\n",
    "\n",
    "To calculate how our strategy would do, we find the buy signal, buy some amount at the current price, and then sell at the next sell signal."
   ]
  },
  {
   "cell_type": "code",
   "execution_count": null,
   "id": "9c605471",
   "metadata": {},
   "outputs": [],
   "source": [
    "def calculate_returns(quantity, data, buy_signal, sell_signal):\n",
    "    \"\"\"Calculate the returns of a trading strategy based on buy and sell signals.\"\"\"\n",
    "    \n",
    "    total_profit = 0\n",
    "    total_money_in = 0\n",
    "    for time, buy_row in data[buy_signal].iterrows(): # iterate over every buy signal\n",
    "        buy_price = buy_row['Close']\n",
    "        sell_trades = data[(data.index > time) & sell_signal]\n",
    "        # check for a sell signal after the buy signal\n",
    "\n",
    "        if not sell_trades.empty: # could potentially not have a sell signal, like at the end\n",
    "            sell_price = (sell_trades.iloc[0])['Close'] # first sell signal after buy signal\n",
    "\n",
    "            profit = (sell_price - buy_price) * quantity\n",
    "            total_money_in = total_money_in + (buy_price * quantity)\n",
    "            print(f\"Bought at ${buy_price:.2f}. Sold at ${sell_price:.2f}, Profit: ${profit:.2f}\")\n",
    "            total_profit = total_profit + profit\n",
    "        else:\n",
    "            print(f\"Bought at ${buy_price:.2f}, No sell signal found.\")\n",
    "    return total_profit, total_money_in\n"
   ]
  },
  {
   "cell_type": "markdown",
   "id": "2cbe86e7",
   "metadata": {},
   "source": [
    "With the way this function has been coded, this can calculate the returns of virtually any strategy that is based on buy and sell signals."
   ]
  },
  {
   "cell_type": "code",
   "execution_count": 45,
   "id": "d4a937d4",
   "metadata": {},
   "outputs": [
    {
     "name": "stdout",
     "output_type": "stream",
     "text": [
      "Bought at $423.03. Sold at $418.66, Profit: $-4.38\n",
      "Bought at $421.88. Sold at $416.63, Profit: $-5.25\n",
      "Bought at $423.53. Sold at $416.88, Profit: $-6.64\n",
      "Bought at $374.92. Sold at $380.60, Profit: $5.68\n",
      "Bought at $388.62. Sold at $375.71, Profit: $-12.90\n",
      "Bought at $373.34. Sold at $359.76, Profit: $-13.58\n",
      "Bought at $364.64. Sold at $359.05, Profit: $-5.59\n",
      "Bought at $378.78. Sold at $369.51, Profit: $-9.27\n",
      "Bought at $372.37. Sold at $367.05, Profit: $-5.31\n",
      "Bought at $376.56. Sold at $374.69, Profit: $-1.87\n",
      "Bought at $381.67. Sold at $382.15, Profit: $0.48\n",
      "Bought at $383.45. Sold at $382.04, Profit: $-1.42\n",
      "Bought at $383.53. Sold at $383.97, Profit: $0.44\n",
      "Bought at $384.60. Sold at $377.51, Profit: $-7.10\n",
      "Bought at $388.42. Sold at $430.21, Profit: $41.79\n",
      "Bought at $436.31. Sold at $433.45, Profit: $-2.86\n",
      "Bought at $435.62. Sold at $433.23, Profit: $-2.39\n",
      "Bought at $437.47. Sold at $432.20, Profit: $-5.27\n",
      "Bought at $423.74. Sold at $495.27, Profit: $71.53\n",
      "Bought at $501.98. Sold at $530.32, Profit: $28.33\n",
      "Bought at $536.26. Sold at $533.85, Profit: $-2.40\n",
      "Bought at $542.53. Sold at $524.89, Profit: $-17.64\n",
      "Bought at $535.58. Sold at $532.24, Profit: $-3.34\n",
      "Bought at $546.09. Sold at $579.24, Profit: $33.15\n",
      "Bought at $586.02. Sold at $583.11, Profit: $-2.90\n",
      "Bought at $586.81. Sold at $583.52, Profit: $-3.29\n",
      "Bought at $592.39. Sold at $592.02, Profit: $-0.37\n",
      "Bought at $555.28, No sell signal found.\n",
      "Total Profit: $67.64, Money Invested: $11980.12, Return on Investment: 0.56%\n"
     ]
    }
   ],
   "source": [
    "profit, total_money_in = calculate_returns(1, data, buy_signal, sell_signal)\n",
    "\n",
    "print(f\"Total Profit: ${profit:.2f}, Money Invested: ${total_money_in:.2f}, Return on Investment: {(profit/total_money_in)*100:.2f}%\")"
   ]
  },
  {
   "cell_type": "markdown",
   "id": "de6a58a2",
   "metadata": {},
   "source": [
    "As shown, a profit technically was made. However, an ROI of less than a percent is not the best. However, it is repeatable and intuitive."
   ]
  }
 ],
 "metadata": {
  "kernelspec": {
   "display_name": "quant",
   "language": "python",
   "name": "python3"
  },
  "language_info": {
   "codemirror_mode": {
    "name": "ipython",
    "version": 3
   },
   "file_extension": ".py",
   "mimetype": "text/x-python",
   "name": "python",
   "nbconvert_exporter": "python",
   "pygments_lexer": "ipython3",
   "version": "3.13.7"
  }
 },
 "nbformat": 4,
 "nbformat_minor": 5
}
