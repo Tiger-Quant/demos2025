{
 "cells": [
  {
   "cell_type": "code",
   "execution_count": 1,
   "id": "15eff955",
   "metadata": {},
   "outputs": [],
   "source": [
    "import yfinance as yf\n",
    "import pandas as pd\n",
    "import numpy as np\n",
    "import vectorbt as vbt"
   ]
  },
  {
   "cell_type": "code",
   "execution_count": 3,
   "id": "1b66562e",
   "metadata": {},
   "outputs": [
    {
     "name": "stderr",
     "output_type": "stream",
     "text": [
      "[*********************100%***********************]  1 of 1 completed"
     ]
    },
    {
     "name": "stdout",
     "output_type": "stream",
     "text": [
      "Trade Signals (1 = Buy, -1 = Sell):\n",
      "Price            Close        High         Low        Open     Volume  \\\n",
      "Date                                                                    \n",
      "2022-01-03  453.210388  453.343222  449.548364  451.872697   72668200   \n",
      "2022-03-18  423.032745  423.356307  416.085625  416.827920  106345500   \n",
      "2022-04-11  418.655090  423.489520  418.150711  422.642527   89770500   \n",
      "2022-04-13  421.881165  422.642482  416.675574  416.856392   74070400   \n",
      "2022-04-14  416.628052  423.232587  416.523354  422.109604   97869500   \n",
      "\n",
      "Price            SMA50  Position  Signal  \n",
      "Date                                      \n",
      "2022-01-03         NaN         0     NaN  \n",
      "2022-03-18  419.555724         1     1.0  \n",
      "2022-04-11  419.390379         0    -1.0  \n",
      "2022-04-13  419.038951         1     1.0  \n",
      "2022-04-14  418.693622         0    -1.0  \n"
     ]
    },
    {
     "name": "stderr",
     "output_type": "stream",
     "text": [
      "\n"
     ]
    }
   ],
   "source": [
    "# Download the data\n",
    "data = yf.download('SPY', start='2022-01-01', auto_adjust=True)\n",
    "data.columns = data.columns.droplevel(1)\n",
    "\n",
    "# Calculate the SMA\n",
    "data['SMA50'] = data['Close'].rolling(window=50).mean()\n",
    "\n",
    "# Determine the position state (1 for long, 0 for flat)\n",
    "data['Position'] = np.where(data['Close'] > data['SMA50'], 1, 0)\n",
    "\n",
    "# Calculate the signal (1 for buy, -1 for sell, 0 for hold)\n",
    "data['Signal'] = data['Position'].diff()\n",
    "\n",
    "# Display the rows where a trade signal occurred\n",
    "print(\"Trade Signals (1 = Buy, -1 = Sell):\")\n",
    "print(data[data['Signal'] != 0].head())"
   ]
  },
  {
   "cell_type": "markdown",
   "id": "2d08ba73",
   "metadata": {},
   "source": [
    "## 2. Prepare Signals for Vectorbt\n",
    "Vectorbt's `Portfolio.from_signals` function prefers separate boolean (True/False) inputs for entries and exits. We can easily create these from your `Signal` column."
   ]
  },
  {
   "cell_type": "code",
   "execution_count": 4,
   "id": "603917dc",
   "metadata": {},
   "outputs": [],
   "source": [
    "# Create entry signals where Signal is 1 (buy)\n",
    "entries = data['Signal'] == 1\n",
    "\n",
    "# Create exit signals where Signal is -1 (sell)\n",
    "exits = data['Signal'] == -1"
   ]
  },
  {
   "cell_type": "markdown",
   "id": "ca9262ce",
   "metadata": {},
   "source": [
    "## 3. Run the Backtest 🚀\n",
    "Now, you can feed your price data and signals directly into Vectorbt's portfolio simulator. This one function handles all the complex calculations of executing trades, tracking equity, and calculating performance metrics."
   ]
  },
  {
   "cell_type": "code",
   "execution_count": 5,
   "id": "b697e150",
   "metadata": {},
   "outputs": [
    {
     "name": "stdout",
     "output_type": "stream",
     "text": [
      "\n",
      "--- Backtest Performance ---\n",
      "Start                                2022-01-03 00:00:00\n",
      "End                                  2025-10-13 00:00:00\n",
      "Period                                 948 days 00:00:00\n",
      "Start Value                                     100000.0\n",
      "End Value                                   134470.38992\n",
      "Total Return [%]                                34.47039\n",
      "Benchmark Return [%]                           46.298495\n",
      "Max Gross Exposure [%]                             100.0\n",
      "Total Fees Paid                                      0.0\n",
      "Max Drawdown [%]                               20.259715\n",
      "Max Drawdown Duration                  380 days 00:00:00\n",
      "Total Trades                                          28\n",
      "Total Closed Trades                                   27\n",
      "Total Open Trades                                      1\n",
      "Open Trade PnL                              21853.794759\n",
      "Win Rate [%]                                   25.925926\n",
      "Best Trade [%]                                 16.880766\n",
      "Worst Trade [%]                                -3.637338\n",
      "Avg Winning Trade [%]                           5.873113\n",
      "Avg Losing Trade [%]                            -1.33863\n",
      "Avg Winning Trade Duration    55 days 06:51:25.714285714\n",
      "Avg Losing Trade Duration                5 days 21:36:00\n",
      "Profit Factor                                   1.486458\n",
      "Expectancy                                    467.281302\n",
      "Sharpe Ratio                                    0.941147\n",
      "Calmar Ratio                                    0.596204\n",
      "Omega Ratio                                     1.180379\n",
      "Sortino Ratio                                   1.327509\n",
      "dtype: object\n"
     ]
    }
   ],
   "source": [
    "# Run the Vectorbt backtest\n",
    "portfolio = vbt.Portfolio.from_signals(\n",
    "    close=data['Close'],\n",
    "    entries=entries,\n",
    "    exits=exits,\n",
    "    init_cash=100_000,  # Start with $100,000\n",
    "    freq='D'           # Use daily frequency for calculations\n",
    ")\n",
    "\n",
    "# Print the performance statistics\n",
    "print(\"\\n--- Backtest Performance ---\")\n",
    "print(portfolio.stats())"
   ]
  },
  {
   "cell_type": "markdown",
   "id": "46e3ed1b",
   "metadata": {},
   "source": [
    "## 4. Visualize the Results 📊\n",
    "One of the best features of Vectorbt is its powerful plotting. You can visualize the trades on a chart along with your SMA indicator to see exactly how the strategy performed."
   ]
  },
  {
   "cell_type": "code",
   "execution_count": 6,
   "id": "3bd98da4",
   "metadata": {},
   "outputs": [
    {
     "ename": "KeyError",
     "evalue": "'price'",
     "output_type": "error",
     "traceback": [
      "\u001b[31m---------------------------------------------------------------------------\u001b[39m",
      "\u001b[31mKeyError\u001b[39m                                  Traceback (most recent call last)",
      "\u001b[36mCell\u001b[39m\u001b[36m \u001b[39m\u001b[32mIn[6]\u001b[39m\u001b[32m, line 2\u001b[39m\n\u001b[32m      1\u001b[39m \u001b[38;5;66;03m# Create the plot\u001b[39;00m\n\u001b[32m----> \u001b[39m\u001b[32m2\u001b[39m fig = \u001b[43mportfolio\u001b[49m\u001b[43m.\u001b[49m\u001b[43mplot\u001b[49m\u001b[43m(\u001b[49m\u001b[43msubplots\u001b[49m\u001b[43m=\u001b[49m\u001b[43m[\u001b[49m\u001b[33;43m'\u001b[39;49m\u001b[33;43mprice\u001b[39;49m\u001b[33;43m'\u001b[39;49m\u001b[43m,\u001b[49m\u001b[43m \u001b[49m\u001b[33;43m'\u001b[39;49m\u001b[33;43mpositions\u001b[39;49m\u001b[33;43m'\u001b[39;49m\u001b[43m]\u001b[49m\u001b[43m)\u001b[49m\n\u001b[32m      4\u001b[39m \u001b[38;5;66;03m# Add the SMA50 indicator to the price subplot\u001b[39;00m\n\u001b[32m      5\u001b[39m fig.add_scatter(\n\u001b[32m      6\u001b[39m     x=data.index, \n\u001b[32m      7\u001b[39m     y=data[\u001b[33m'\u001b[39m\u001b[33mSMA50\u001b[39m\u001b[33m'\u001b[39m], \n\u001b[32m      8\u001b[39m     name=\u001b[33m'\u001b[39m\u001b[33mSMA50\u001b[39m\u001b[33m'\u001b[39m, \n\u001b[32m      9\u001b[39m     row=\u001b[32m1\u001b[39m, col=\u001b[32m1\u001b[39m\n\u001b[32m     10\u001b[39m )\n",
      "\u001b[36mFile \u001b[39m\u001b[32md:\\Development\\TigerQuant\\demos\\.venv\\Lib\\site-packages\\vectorbt\\generic\\plots_builder.py:233\u001b[39m, in \u001b[36mPlotsBuilderMixin.plots\u001b[39m\u001b[34m(self, subplots, tags, column, group_by, silence_warnings, template_mapping, settings, filters, subplot_settings, show_titles, hide_id_labels, group_id_labels, make_subplots_kwargs, **layout_kwargs)\u001b[39m\n\u001b[32m    231\u001b[39m \u001b[38;5;28;01mfor\u001b[39;00m i, subplot \u001b[38;5;129;01min\u001b[39;00m \u001b[38;5;28menumerate\u001b[39m(subplots):\n\u001b[32m    232\u001b[39m     \u001b[38;5;28;01mif\u001b[39;00m \u001b[38;5;28misinstance\u001b[39m(subplot, \u001b[38;5;28mstr\u001b[39m):\n\u001b[32m--> \u001b[39m\u001b[32m233\u001b[39m         subplot = (subplot, \u001b[43mreself\u001b[49m\u001b[43m.\u001b[49m\u001b[43msubplots\u001b[49m\u001b[43m[\u001b[49m\u001b[43msubplot\u001b[49m\u001b[43m]\u001b[49m)\n\u001b[32m    234\u001b[39m     \u001b[38;5;28;01mif\u001b[39;00m \u001b[38;5;129;01mnot\u001b[39;00m \u001b[38;5;28misinstance\u001b[39m(subplot, \u001b[38;5;28mtuple\u001b[39m):\n\u001b[32m    235\u001b[39m         \u001b[38;5;28;01mraise\u001b[39;00m \u001b[38;5;167;01mTypeError\u001b[39;00m(\u001b[33mf\u001b[39m\u001b[33m\"\u001b[39m\u001b[33mSubplot at index \u001b[39m\u001b[38;5;132;01m{\u001b[39;00mi\u001b[38;5;132;01m}\u001b[39;00m\u001b[33m must be either a string or a tuple\u001b[39m\u001b[33m\"\u001b[39m)\n",
      "\u001b[31mKeyError\u001b[39m: 'price'"
     ]
    }
   ],
   "source": [
    "# Create the plot\n",
    "fig = portfolio.plot(subplots=['price', 'positions'])\n",
    "\n",
    "# Add the SMA50 indicator to the price subplot\n",
    "fig.add_scatter(\n",
    "    x=data.index, \n",
    "    y=data['SMA50'], \n",
    "    name='SMA50', \n",
    "    row=1, col=1\n",
    ")\n",
    "\n",
    "fig.show()"
   ]
  },
  {
   "cell_type": "code",
   "execution_count": null,
   "id": "3565907a",
   "metadata": {},
   "outputs": [],
   "source": []
  }
 ],
 "metadata": {
  "kernelspec": {
   "display_name": ".venv",
   "language": "python",
   "name": "python3"
  },
  "language_info": {
   "codemirror_mode": {
    "name": "ipython",
    "version": 3
   },
   "file_extension": ".py",
   "mimetype": "text/x-python",
   "name": "python",
   "nbconvert_exporter": "python",
   "pygments_lexer": "ipython3",
   "version": "3.13.5"
  }
 },
 "nbformat": 4,
 "nbformat_minor": 5
}
