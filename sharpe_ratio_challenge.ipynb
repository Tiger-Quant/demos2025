{
 "cells": [
  {
   "cell_type": "markdown",
   "id": "fbaa27f8",
   "metadata": {},
   "source": [
    "## Welcome to (probably) your first TigerQuant Jupyter notebook!\n",
    "\n",
    "The key to making your notebook work anywhere is to declare its dependencies. A notebook that runs on your laptop will fail in Colab if it uses a library that isn't pre-installed.\n",
    "\n",
    "The solution is to add a **setup cell** at the very top of your notebook.\n",
    "By including this, anyone (including your future self on Colab) can open the notebook, run the first cell, and have a fully working environment in seconds."
   ]
  },
  {
   "cell_type": "code",
   "execution_count": 1,
   "id": "db9fca59",
   "metadata": {},
   "outputs": [
    {
     "name": "stdout",
     "output_type": "stream",
     "text": [
      "✅ Setup complete. You can now run the rest of the notebook.\n"
     ]
    }
   ],
   "source": [
    "# ------------------------------------------------------------------\n",
    "# Setup Cell: Run this first to install required libraries.\n",
    "# ------------------------------------------------------------------\n",
    "# The '!' command runs a shell command. We use it to call pip.\n",
    "# The '-q' flag makes the output \"quiet\" to keep the notebook clean.\n",
    "\n",
    "!pip install -q yfinance pandas matplotlib-venn\n",
    "\n",
    "print(\"✅ Setup complete. You can now run the rest of the notebook.\")"
   ]
  },
  {
   "cell_type": "markdown",
   "id": "70e6e8d6",
   "metadata": {},
   "source": [
    "You can use this [![Open In Colab](https://colab.research.google.com/assets/colab-badge.svg)](https://colab.research.google.com/github/Tiger-Quant/demos2025/blob/master/sharpe_ratio_challenge.ipynb) to now access and run this notebook in your browser!\n",
    "\n",
    "Use this starter code to now calculate the annualized Sharpe Ratio for both SPY and Apple (AAPL) using data from the last two years. Remember, sharpe ratio = (the average return minus the risk-free rate) / (standard deviation of returns). **For risk-free rate use 0.04, or 4%.**"
   ]
  },
  {
   "cell_type": "code",
   "execution_count": null,
   "id": "57365b68",
   "metadata": {},
   "outputs": [],
   "source": [
    "import yfinance as yf\n",
    "\n",
    "spy_data = yf.download('SPY', start='2022-01-01')\n",
    "spy_data.head()"
   ]
  }
 ],
 "metadata": {
  "kernelspec": {
   "display_name": ".venv",
   "language": "python",
   "name": "python3"
  },
  "language_info": {
   "codemirror_mode": {
    "name": "ipython",
    "version": 3
   },
   "file_extension": ".py",
   "mimetype": "text/x-python",
   "name": "python",
   "nbconvert_exporter": "python",
   "pygments_lexer": "ipython3",
   "version": "3.13.5"
  }
 },
 "nbformat": 4,
 "nbformat_minor": 5
}
