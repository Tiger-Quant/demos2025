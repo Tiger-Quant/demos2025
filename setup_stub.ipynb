{
 "cells": [
  {
   "cell_type": "code",
   "execution_count": 1,
   "id": "55c997b6",
   "metadata": {},
   "outputs": [
    {
     "name": "stdout",
     "output_type": "stream",
     "text": [
      "✅ Setup complete. You can now run the rest of the notebook.\n"
     ]
    },
    {
     "name": "stderr",
     "output_type": "stream",
     "text": [
      "\n",
      "[notice] A new release of pip is available: 25.1.1 -> 25.2\n",
      "[notice] To update, run: python.exe -m pip install --upgrade pip\n"
     ]
    }
   ],
   "source": [
    "# ------------------------------------------------------------------\n",
    "# Setup Cell: Run this first to install required libraries.\n",
    "# ------------------------------------------------------------------\n",
    "# The '!' command runs a shell command. We use it to call pip.\n",
    "# The '-q' flag makes the output \"quiet\" to keep the notebook clean.\n",
    "\n",
    "!pip install -q yfinance pandas matplotlib-venn numpy\n",
    "\n",
    "print(\"✅ Setup complete. You can now run the rest of the notebook.\")"
   ]
  },
  {
   "cell_type": "code",
   "execution_count": 2,
   "id": "d7407e80",
   "metadata": {},
   "outputs": [],
   "source": [
    "import yfinance as yf\n",
    "import matplotlib.pyplot as plt\n",
    "import pandas as pd\n",
    "import numpy as np"
   ]
  },
  {
   "cell_type": "code",
   "execution_count": 3,
   "id": "534b5f25",
   "metadata": {},
   "outputs": [
    {
     "name": "stderr",
     "output_type": "stream",
     "text": [
      "C:\\Users\\Evan Schreiner\\AppData\\Local\\Temp\\ipykernel_4828\\1240473377.py:1: FutureWarning: YF.download() has changed argument auto_adjust default to True\n",
      "  data = yf.download('SPY', start='2022-01-01')\n",
      "[*********************100%***********************]  1 of 1 completed\n"
     ]
    },
    {
     "data": {
      "text/html": [
       "<div>\n",
       "<style scoped>\n",
       "    .dataframe tbody tr th:only-of-type {\n",
       "        vertical-align: middle;\n",
       "    }\n",
       "\n",
       "    .dataframe tbody tr th {\n",
       "        vertical-align: top;\n",
       "    }\n",
       "\n",
       "    .dataframe thead th {\n",
       "        text-align: right;\n",
       "    }\n",
       "</style>\n",
       "<table border=\"1\" class=\"dataframe\">\n",
       "  <thead>\n",
       "    <tr style=\"text-align: right;\">\n",
       "      <th>Price</th>\n",
       "      <th>Close</th>\n",
       "      <th>High</th>\n",
       "      <th>Low</th>\n",
       "      <th>Open</th>\n",
       "      <th>Volume</th>\n",
       "    </tr>\n",
       "    <tr>\n",
       "      <th>Date</th>\n",
       "      <th></th>\n",
       "      <th></th>\n",
       "      <th></th>\n",
       "      <th></th>\n",
       "      <th></th>\n",
       "    </tr>\n",
       "  </thead>\n",
       "  <tbody>\n",
       "    <tr>\n",
       "      <th>2022-01-03</th>\n",
       "      <td>453.210419</td>\n",
       "      <td>453.343253</td>\n",
       "      <td>449.548394</td>\n",
       "      <td>451.872728</td>\n",
       "      <td>72668200</td>\n",
       "    </tr>\n",
       "    <tr>\n",
       "      <th>2022-01-04</th>\n",
       "      <td>453.058594</td>\n",
       "      <td>455.363992</td>\n",
       "      <td>451.189625</td>\n",
       "      <td>454.642960</td>\n",
       "      <td>71178700</td>\n",
       "    </tr>\n",
       "    <tr>\n",
       "      <th>2022-01-05</th>\n",
       "      <td>444.358887</td>\n",
       "      <td>453.466551</td>\n",
       "      <td>444.264009</td>\n",
       "      <td>452.688599</td>\n",
       "      <td>104538900</td>\n",
       "    </tr>\n",
       "    <tr>\n",
       "      <th>2022-01-06</th>\n",
       "      <td>443.941437</td>\n",
       "      <td>446.673739</td>\n",
       "      <td>441.560154</td>\n",
       "      <td>443.894013</td>\n",
       "      <td>86858900</td>\n",
       "    </tr>\n",
       "    <tr>\n",
       "      <th>2022-01-07</th>\n",
       "      <td>442.186340</td>\n",
       "      <td>445.136857</td>\n",
       "      <td>440.820189</td>\n",
       "      <td>443.950964</td>\n",
       "      <td>85111600</td>\n",
       "    </tr>\n",
       "    <tr>\n",
       "      <th>...</th>\n",
       "      <td>...</td>\n",
       "      <td>...</td>\n",
       "      <td>...</td>\n",
       "      <td>...</td>\n",
       "      <td>...</td>\n",
       "    </tr>\n",
       "    <tr>\n",
       "      <th>2025-09-17</th>\n",
       "      <td>657.357544</td>\n",
       "      <td>659.890500</td>\n",
       "      <td>652.491031</td>\n",
       "      <td>658.185266</td>\n",
       "      <td>101952200</td>\n",
       "    </tr>\n",
       "    <tr>\n",
       "      <th>2025-09-18</th>\n",
       "      <td>660.429016</td>\n",
       "      <td>663.051750</td>\n",
       "      <td>658.444528</td>\n",
       "      <td>660.060044</td>\n",
       "      <td>90459200</td>\n",
       "    </tr>\n",
       "    <tr>\n",
       "      <th>2025-09-19</th>\n",
       "      <td>663.700012</td>\n",
       "      <td>664.549988</td>\n",
       "      <td>660.369995</td>\n",
       "      <td>662.330017</td>\n",
       "      <td>97945600</td>\n",
       "    </tr>\n",
       "    <tr>\n",
       "      <th>2025-09-22</th>\n",
       "      <td>666.840027</td>\n",
       "      <td>667.289978</td>\n",
       "      <td>662.169983</td>\n",
       "      <td>662.200012</td>\n",
       "      <td>69452200</td>\n",
       "    </tr>\n",
       "    <tr>\n",
       "      <th>2025-09-23</th>\n",
       "      <td>663.210022</td>\n",
       "      <td>667.340027</td>\n",
       "      <td>661.979980</td>\n",
       "      <td>666.719971</td>\n",
       "      <td>71973602</td>\n",
       "    </tr>\n",
       "  </tbody>\n",
       "</table>\n",
       "<p>934 rows × 5 columns</p>\n",
       "</div>"
      ],
      "text/plain": [
       "Price            Close        High         Low        Open     Volume\n",
       "Date                                                                 \n",
       "2022-01-03  453.210419  453.343253  449.548394  451.872728   72668200\n",
       "2022-01-04  453.058594  455.363992  451.189625  454.642960   71178700\n",
       "2022-01-05  444.358887  453.466551  444.264009  452.688599  104538900\n",
       "2022-01-06  443.941437  446.673739  441.560154  443.894013   86858900\n",
       "2022-01-07  442.186340  445.136857  440.820189  443.950964   85111600\n",
       "...                ...         ...         ...         ...        ...\n",
       "2025-09-17  657.357544  659.890500  652.491031  658.185266  101952200\n",
       "2025-09-18  660.429016  663.051750  658.444528  660.060044   90459200\n",
       "2025-09-19  663.700012  664.549988  660.369995  662.330017   97945600\n",
       "2025-09-22  666.840027  667.289978  662.169983  662.200012   69452200\n",
       "2025-09-23  663.210022  667.340027  661.979980  666.719971   71973602\n",
       "\n",
       "[934 rows x 5 columns]"
      ]
     },
     "execution_count": 3,
     "metadata": {},
     "output_type": "execute_result"
    }
   ],
   "source": [
    "data = yf.download('SPY', start='2022-01-01')\n",
    "data.columns = data.columns.droplevel(1)\n",
    "data"
   ]
  }
 ],
 "metadata": {
  "kernelspec": {
   "display_name": "Python 3",
   "language": "python",
   "name": "python3"
  },
  "language_info": {
   "codemirror_mode": {
    "name": "ipython",
    "version": 3
   },
   "file_extension": ".py",
   "mimetype": "text/x-python",
   "name": "python",
   "nbconvert_exporter": "python",
   "pygments_lexer": "ipython3",
   "version": "3.13.5"
  }
 },
 "nbformat": 4,
 "nbformat_minor": 5
}
